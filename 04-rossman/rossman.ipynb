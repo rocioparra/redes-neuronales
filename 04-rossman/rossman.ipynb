{
  "nbformat": 4,
  "nbformat_minor": 0,
  "metadata": {
    "anaconda-cloud": {},
    "hide_input": false,
    "kernelspec": {
      "display_name": "Python 3",
      "language": "python",
      "name": "python3"
    },
    "language_info": {
      "codemirror_mode": {
        "name": "ipython",
        "version": 3
      },
      "file_extension": ".py",
      "mimetype": "text/x-python",
      "name": "python",
      "nbconvert_exporter": "python",
      "pygments_lexer": "ipython3",
      "version": "3.6.8"
    },
    "toc": {
      "nav_menu": {
        "height": "133px",
        "width": "254px"
      },
      "number_sections": false,
      "sideBar": true,
      "skip_h1_title": false,
      "toc_cell": false,
      "toc_position": {
        "height": "906px",
        "left": "0px",
        "right": "1411px",
        "top": "76px",
        "width": "293px"
      },
      "toc_section_display": "block",
      "toc_window_display": true
    },
    "varInspector": {
      "cols": {
        "lenName": 16,
        "lenType": 16,
        "lenVar": 40
      },
      "kernels_config": {
        "python": {
          "delete_cmd_postfix": "",
          "delete_cmd_prefix": "del ",
          "library": "var_list.py",
          "varRefreshCmd": "print(var_dic_list())"
        },
        "r": {
          "delete_cmd_postfix": ") ",
          "delete_cmd_prefix": "rm(",
          "library": "var_list.r",
          "varRefreshCmd": "cat(var_dic_list()) "
        }
      },
      "types_to_exclude": [
        "module",
        "function",
        "builtin_function_or_method",
        "instance",
        "_Feature"
      ],
      "window_display": false
    },
    "colab": {
      "name": "rossman.ipynb",
      "provenance": []
    }
  },
  "cells": [
    {
      "cell_type": "markdown",
      "metadata": {
        "id": "fbBvrht3c7Nm"
      },
      "source": [
        "# Rossmann Store Sales Forecast Using Deep Learning"
      ]
    },
    {
      "cell_type": "markdown",
      "metadata": {
        "id": "g7L-DZ-oc7Nn"
      },
      "source": [
        "![Rossmann](https://github.com/deeplearning-itba/kaggle-rossmann/blob/master/images/photo.png?raw=1)\n",
        "\n",
        "The objective of this notebook is to forecast sales using store, promotion, and competitor data using deep neural network and explain the process to the C-Suite inin layman's terms. The data was obtained from [Kaggle](https://www.kaggle.com/c/rossmann-store-sales/data).\n",
        "\n",
        "This notebook is also available at https://git.io/v5oCA."
      ]
    },
    {
      "cell_type": "markdown",
      "metadata": {
        "id": "yLFh1uL_c7No"
      },
      "source": [
        "## Introduction"
      ]
    },
    {
      "cell_type": "markdown",
      "metadata": {
        "id": "QMjWV6lDc7No"
      },
      "source": [
        "Rossmann operates over 3,000 drug stores in 7 European countries. Currently, Rossmann store managers are tasked with predicting their daily sales for up to six weeks in advance. Store sales are influenced by many factors, including promotions, competition, school and state holidays, seasonality, and locality. With thousands of individual managers predicting sales based on their unique circumstances, the accuracy of results can be quite varied.\n",
        "\n",
        "The objective of this project is to predict daily sales for 1,115 stores located across Germany. Reliable sales forecasts enable store managers to create effective staff schedules that increase productivity and motivation. By creating a robust prediction model, store managers can stay focused on their customers and their teams.\n",
        "\n",
        "The developed model achieved high accuracy with Root Mean Squared Percentage Error (RMSPE) 0.23. The formula is:\n",
        "\n",
        "$$\n",
        "\\textrm{RMSE} = \\sqrt{\\frac{1}{n} \\sum_{i=1}^{n} \\left(\\frac{\\hat{y}_i - y_i}{y_i}\\right)^2}\n",
        "$$\n",
        "\n",
        "where:\n",
        "\n",
        "- $\\hat{y}_i$ is the actual sales of one store on a particular day\n",
        "- $y_i$ is the corresponding sales predicted by the model\n",
        "- $n$ is the number of predictions made\n",
        "\n",
        "Below is a high-level overview of the steps taken to develop such robust model:\n",
        "1. Transform the raw data into format which is accepted by the machine learning algorithm.\n",
        "2. Build a predictive model by feeding the transformed data to the algorithm.\n",
        "3. Use a seperate set of raw data to evaluate the performnace of the derived model.\n",
        "\n",
        "In particular, the model we uses is deep nerual network, which is also called deep learning and is the underlying model of cutting-edge applications like Siri and AlphaGo. A simplified illustration of an nerual network:\n",
        "\n",
        "![a simplified illustration of neural network](https://github.com/deeplearning-itba/kaggle-rossmann/blob/master/images/neural_network.png?raw=1)"
      ]
    },
    {
      "cell_type": "markdown",
      "metadata": {
        "id": "blTyk59Tc7Np"
      },
      "source": [
        "## Setup the environment"
      ]
    },
    {
      "cell_type": "markdown",
      "metadata": {
        "id": "eGqlMjQyc7Np"
      },
      "source": [
        "Import the modules to be used by this notebook:"
      ]
    },
    {
      "cell_type": "code",
      "metadata": {
        "id": "n_KCz4mEd0sZ",
        "outputId": "f9a5b400-855c-4bf9-bedc-2313531f2bc0",
        "colab": {
          "base_uri": "https://localhost:8080/"
        }
      },
      "source": [
        "! pip install isoweek\n",
        "! pip install pandas_summary"
      ],
      "execution_count": 61,
      "outputs": [
        {
          "output_type": "stream",
          "text": [
            "Requirement already satisfied: isoweek in /usr/local/lib/python3.6/dist-packages (1.3.3)\n",
            "Requirement already satisfied: pandas_summary in /usr/local/lib/python3.6/dist-packages (0.0.7)\n",
            "Requirement already satisfied: numpy in /usr/local/lib/python3.6/dist-packages (from pandas_summary) (1.18.5)\n",
            "Requirement already satisfied: pandas in /usr/local/lib/python3.6/dist-packages (from pandas_summary) (1.1.3)\n",
            "Requirement already satisfied: python-dateutil>=2.7.3 in /usr/local/lib/python3.6/dist-packages (from pandas->pandas_summary) (2.8.1)\n",
            "Requirement already satisfied: pytz>=2017.2 in /usr/local/lib/python3.6/dist-packages (from pandas->pandas_summary) (2018.9)\n",
            "Requirement already satisfied: six>=1.5 in /usr/local/lib/python3.6/dist-packages (from python-dateutil>=2.7.3->pandas->pandas_summary) (1.15.0)\n"
          ],
          "name": "stdout"
        }
      ]
    },
    {
      "cell_type": "code",
      "metadata": {
        "ExecuteTime": {
          "end_time": "2017-09-09T12:29:02.850466Z",
          "start_time": "2017-09-09T12:29:01.195351Z"
        },
        "scrolled": false,
        "id": "-E1WfqKjc7Nq"
      },
      "source": [
        "import math, keras, datetime, pandas as pd, numpy as np, keras.backend as K\n",
        "import matplotlib.pyplot as plt, operator, random, pickle\n",
        "# from utils2 import *\n",
        "from isoweek import Week\n",
        "from pandas_summary import DataFrameSummary\n",
        "from IPython.display import SVG\n",
        "from numpy import mean, sqrt, square, arange"
      ],
      "execution_count": 62,
      "outputs": []
    },
    {
      "cell_type": "markdown",
      "metadata": {
        "id": "yPQwre6uc7Nu"
      },
      "source": [
        "Set the preferred options:"
      ]
    },
    {
      "cell_type": "code",
      "metadata": {
        "ExecuteTime": {
          "end_time": "2017-09-09T12:29:02.870306Z",
          "start_time": "2017-09-09T12:29:02.854567Z"
        },
        "id": "M_CHal5dc7Nu"
      },
      "source": [
        "np.set_printoptions(threshold=50, edgeitems=20)"
      ],
      "execution_count": 63,
      "outputs": []
    },
    {
      "cell_type": "markdown",
      "metadata": {
        "id": "IXAglFlEc7Nx"
      },
      "source": [
        "## Import dataset"
      ]
    },
    {
      "cell_type": "markdown",
      "metadata": {
        "id": "w3FsVoHnc7Nx"
      },
      "source": [
        "The following tables are available in the datasets:\n",
        "\n",
        "| Table        | Table Description                                                                                               |\n",
        "|--------------|-----------------------------------------------------------------------------------------------------------------|\n",
        "| train        | training set: store information on a daily basis, tracking things like sales, customers, whether that day was a holiday, etc. |\n",
        "| store        | general information about the store including competition, etc.                                                 |\n",
        "| store_states | maps store to state it is in                                                                                    |\n",
        "| state_names  | maps state abbreviations to names                                                                               |\n",
        "| googletrend  | trend data for particular week/state                                                                            |\n",
        "| weather      | weather conditions for each state                                                                               |\n",
        "\n",
        "Import the tables to the environemnts:"
      ]
    },
    {
      "cell_type": "code",
      "metadata": {
        "id": "iXoNCyRwc7Ny"
      },
      "source": [
        "PATH = 'https://raw.githubusercontent.com/rocioparra/redes-neuronales/master/04-rossman/data/'"
      ],
      "execution_count": 64,
      "outputs": []
    },
    {
      "cell_type": "code",
      "metadata": {
        "ExecuteTime": {
          "end_time": "2017-09-09T12:29:03.442382Z",
          "start_time": "2017-09-09T12:29:02.874344Z"
        },
        "id": "ucex3qY1c7N0"
      },
      "source": [
        "table_names = ['train', 'store', 'store_states', 'state_names', 'googletrend', 'weather']\n",
        "train, store, store_states, state_names, googletrend, weather = [pd.read_csv(PATH + fname+'.csv', \\\n",
        "                                                                             low_memory=False) for fname in table_names]"
      ],
      "execution_count": 65,
      "outputs": []
    },
    {
      "cell_type": "markdown",
      "metadata": {
        "id": "yWTURhzTc7N2"
      },
      "source": [
        "Display the first 5 rows and statsitics of each table to get a quick understanding of the dataset:"
      ]
    },
    {
      "cell_type": "code",
      "metadata": {
        "ExecuteTime": {
          "end_time": "2017-09-09T12:29:04.098431Z",
          "start_time": "2017-09-09T12:29:03.446701Z"
        },
        "id": "S4hSZYsVc7N3",
        "outputId": "0a6ebb0c-765d-4fe8-c25f-348d5a27e0ec",
        "colab": {
          "base_uri": "https://localhost:8080/",
          "height": 619
        }
      },
      "source": [
        "display(train.head())\n",
        "display(DataFrameSummary(train).summary())"
      ],
      "execution_count": 66,
      "outputs": [
        {
          "output_type": "display_data",
          "data": {
            "text/html": [
              "<div>\n",
              "<style scoped>\n",
              "    .dataframe tbody tr th:only-of-type {\n",
              "        vertical-align: middle;\n",
              "    }\n",
              "\n",
              "    .dataframe tbody tr th {\n",
              "        vertical-align: top;\n",
              "    }\n",
              "\n",
              "    .dataframe thead th {\n",
              "        text-align: right;\n",
              "    }\n",
              "</style>\n",
              "<table border=\"1\" class=\"dataframe\">\n",
              "  <thead>\n",
              "    <tr style=\"text-align: right;\">\n",
              "      <th></th>\n",
              "      <th>Store</th>\n",
              "      <th>DayOfWeek</th>\n",
              "      <th>Date</th>\n",
              "      <th>Sales</th>\n",
              "      <th>Customers</th>\n",
              "      <th>Open</th>\n",
              "      <th>Promo</th>\n",
              "      <th>StateHoliday</th>\n",
              "      <th>SchoolHoliday</th>\n",
              "    </tr>\n",
              "  </thead>\n",
              "  <tbody>\n",
              "    <tr>\n",
              "      <th>0</th>\n",
              "      <td>1</td>\n",
              "      <td>5</td>\n",
              "      <td>2015-07-31</td>\n",
              "      <td>5263</td>\n",
              "      <td>555</td>\n",
              "      <td>1</td>\n",
              "      <td>1</td>\n",
              "      <td>0</td>\n",
              "      <td>1</td>\n",
              "    </tr>\n",
              "    <tr>\n",
              "      <th>1</th>\n",
              "      <td>2</td>\n",
              "      <td>5</td>\n",
              "      <td>2015-07-31</td>\n",
              "      <td>6064</td>\n",
              "      <td>625</td>\n",
              "      <td>1</td>\n",
              "      <td>1</td>\n",
              "      <td>0</td>\n",
              "      <td>1</td>\n",
              "    </tr>\n",
              "    <tr>\n",
              "      <th>2</th>\n",
              "      <td>3</td>\n",
              "      <td>5</td>\n",
              "      <td>2015-07-31</td>\n",
              "      <td>8314</td>\n",
              "      <td>821</td>\n",
              "      <td>1</td>\n",
              "      <td>1</td>\n",
              "      <td>0</td>\n",
              "      <td>1</td>\n",
              "    </tr>\n",
              "    <tr>\n",
              "      <th>3</th>\n",
              "      <td>4</td>\n",
              "      <td>5</td>\n",
              "      <td>2015-07-31</td>\n",
              "      <td>13995</td>\n",
              "      <td>1498</td>\n",
              "      <td>1</td>\n",
              "      <td>1</td>\n",
              "      <td>0</td>\n",
              "      <td>1</td>\n",
              "    </tr>\n",
              "    <tr>\n",
              "      <th>4</th>\n",
              "      <td>5</td>\n",
              "      <td>5</td>\n",
              "      <td>2015-07-31</td>\n",
              "      <td>4822</td>\n",
              "      <td>559</td>\n",
              "      <td>1</td>\n",
              "      <td>1</td>\n",
              "      <td>0</td>\n",
              "      <td>1</td>\n",
              "    </tr>\n",
              "  </tbody>\n",
              "</table>\n",
              "</div>"
            ],
            "text/plain": [
              "   Store  DayOfWeek        Date  Sales  ...  Open  Promo  StateHoliday SchoolHoliday\n",
              "0      1          5  2015-07-31   5263  ...     1      1             0             1\n",
              "1      2          5  2015-07-31   6064  ...     1      1             0             1\n",
              "2      3          5  2015-07-31   8314  ...     1      1             0             1\n",
              "3      4          5  2015-07-31  13995  ...     1      1             0             1\n",
              "4      5          5  2015-07-31   4822  ...     1      1             0             1\n",
              "\n",
              "[5 rows x 9 columns]"
            ]
          },
          "metadata": {
            "tags": []
          }
        },
        {
          "output_type": "display_data",
          "data": {
            "text/html": [
              "<div>\n",
              "<style scoped>\n",
              "    .dataframe tbody tr th:only-of-type {\n",
              "        vertical-align: middle;\n",
              "    }\n",
              "\n",
              "    .dataframe tbody tr th {\n",
              "        vertical-align: top;\n",
              "    }\n",
              "\n",
              "    .dataframe thead th {\n",
              "        text-align: right;\n",
              "    }\n",
              "</style>\n",
              "<table border=\"1\" class=\"dataframe\">\n",
              "  <thead>\n",
              "    <tr style=\"text-align: right;\">\n",
              "      <th></th>\n",
              "      <th>Store</th>\n",
              "      <th>DayOfWeek</th>\n",
              "      <th>Date</th>\n",
              "      <th>Sales</th>\n",
              "      <th>Customers</th>\n",
              "      <th>Open</th>\n",
              "      <th>Promo</th>\n",
              "      <th>StateHoliday</th>\n",
              "      <th>SchoolHoliday</th>\n",
              "    </tr>\n",
              "  </thead>\n",
              "  <tbody>\n",
              "    <tr>\n",
              "      <th>count</th>\n",
              "      <td>1.01721e+06</td>\n",
              "      <td>1.01721e+06</td>\n",
              "      <td>NaN</td>\n",
              "      <td>1.01721e+06</td>\n",
              "      <td>1.01721e+06</td>\n",
              "      <td>1.01721e+06</td>\n",
              "      <td>1.01721e+06</td>\n",
              "      <td>NaN</td>\n",
              "      <td>1.01721e+06</td>\n",
              "    </tr>\n",
              "    <tr>\n",
              "      <th>mean</th>\n",
              "      <td>558.43</td>\n",
              "      <td>3.99834</td>\n",
              "      <td>NaN</td>\n",
              "      <td>5773.82</td>\n",
              "      <td>633.146</td>\n",
              "      <td>0.830107</td>\n",
              "      <td>0.381515</td>\n",
              "      <td>NaN</td>\n",
              "      <td>0.178647</td>\n",
              "    </tr>\n",
              "    <tr>\n",
              "      <th>std</th>\n",
              "      <td>321.909</td>\n",
              "      <td>1.99739</td>\n",
              "      <td>NaN</td>\n",
              "      <td>3849.93</td>\n",
              "      <td>464.412</td>\n",
              "      <td>0.375539</td>\n",
              "      <td>0.485759</td>\n",
              "      <td>NaN</td>\n",
              "      <td>0.383056</td>\n",
              "    </tr>\n",
              "    <tr>\n",
              "      <th>min</th>\n",
              "      <td>1</td>\n",
              "      <td>1</td>\n",
              "      <td>NaN</td>\n",
              "      <td>0</td>\n",
              "      <td>0</td>\n",
              "      <td>0</td>\n",
              "      <td>0</td>\n",
              "      <td>NaN</td>\n",
              "      <td>0</td>\n",
              "    </tr>\n",
              "    <tr>\n",
              "      <th>25%</th>\n",
              "      <td>280</td>\n",
              "      <td>2</td>\n",
              "      <td>NaN</td>\n",
              "      <td>3727</td>\n",
              "      <td>405</td>\n",
              "      <td>1</td>\n",
              "      <td>0</td>\n",
              "      <td>NaN</td>\n",
              "      <td>0</td>\n",
              "    </tr>\n",
              "    <tr>\n",
              "      <th>50%</th>\n",
              "      <td>558</td>\n",
              "      <td>4</td>\n",
              "      <td>NaN</td>\n",
              "      <td>5744</td>\n",
              "      <td>609</td>\n",
              "      <td>1</td>\n",
              "      <td>0</td>\n",
              "      <td>NaN</td>\n",
              "      <td>0</td>\n",
              "    </tr>\n",
              "    <tr>\n",
              "      <th>75%</th>\n",
              "      <td>838</td>\n",
              "      <td>6</td>\n",
              "      <td>NaN</td>\n",
              "      <td>7856</td>\n",
              "      <td>837</td>\n",
              "      <td>1</td>\n",
              "      <td>1</td>\n",
              "      <td>NaN</td>\n",
              "      <td>0</td>\n",
              "    </tr>\n",
              "    <tr>\n",
              "      <th>max</th>\n",
              "      <td>1115</td>\n",
              "      <td>7</td>\n",
              "      <td>NaN</td>\n",
              "      <td>41551</td>\n",
              "      <td>7388</td>\n",
              "      <td>1</td>\n",
              "      <td>1</td>\n",
              "      <td>NaN</td>\n",
              "      <td>1</td>\n",
              "    </tr>\n",
              "    <tr>\n",
              "      <th>counts</th>\n",
              "      <td>1017209</td>\n",
              "      <td>1017209</td>\n",
              "      <td>1017209</td>\n",
              "      <td>1017209</td>\n",
              "      <td>1017209</td>\n",
              "      <td>1017209</td>\n",
              "      <td>1017209</td>\n",
              "      <td>1017209</td>\n",
              "      <td>1017209</td>\n",
              "    </tr>\n",
              "    <tr>\n",
              "      <th>uniques</th>\n",
              "      <td>1115</td>\n",
              "      <td>7</td>\n",
              "      <td>942</td>\n",
              "      <td>21734</td>\n",
              "      <td>4086</td>\n",
              "      <td>2</td>\n",
              "      <td>2</td>\n",
              "      <td>4</td>\n",
              "      <td>2</td>\n",
              "    </tr>\n",
              "    <tr>\n",
              "      <th>missing</th>\n",
              "      <td>0</td>\n",
              "      <td>0</td>\n",
              "      <td>0</td>\n",
              "      <td>0</td>\n",
              "      <td>0</td>\n",
              "      <td>0</td>\n",
              "      <td>0</td>\n",
              "      <td>0</td>\n",
              "      <td>0</td>\n",
              "    </tr>\n",
              "    <tr>\n",
              "      <th>missing_perc</th>\n",
              "      <td>0%</td>\n",
              "      <td>0%</td>\n",
              "      <td>0%</td>\n",
              "      <td>0%</td>\n",
              "      <td>0%</td>\n",
              "      <td>0%</td>\n",
              "      <td>0%</td>\n",
              "      <td>0%</td>\n",
              "      <td>0%</td>\n",
              "    </tr>\n",
              "    <tr>\n",
              "      <th>types</th>\n",
              "      <td>numeric</td>\n",
              "      <td>numeric</td>\n",
              "      <td>categorical</td>\n",
              "      <td>numeric</td>\n",
              "      <td>numeric</td>\n",
              "      <td>bool</td>\n",
              "      <td>bool</td>\n",
              "      <td>categorical</td>\n",
              "      <td>bool</td>\n",
              "    </tr>\n",
              "  </tbody>\n",
              "</table>\n",
              "</div>"
            ],
            "text/plain": [
              "                    Store    DayOfWeek  ... StateHoliday SchoolHoliday\n",
              "count         1.01721e+06  1.01721e+06  ...          NaN   1.01721e+06\n",
              "mean               558.43      3.99834  ...          NaN      0.178647\n",
              "std               321.909      1.99739  ...          NaN      0.383056\n",
              "min                     1            1  ...          NaN             0\n",
              "25%                   280            2  ...          NaN             0\n",
              "50%                   558            4  ...          NaN             0\n",
              "75%                   838            6  ...          NaN             0\n",
              "max                  1115            7  ...          NaN             1\n",
              "counts            1017209      1017209  ...      1017209       1017209\n",
              "uniques              1115            7  ...            4             2\n",
              "missing                 0            0  ...            0             0\n",
              "missing_perc           0%           0%  ...           0%            0%\n",
              "types             numeric      numeric  ...  categorical          bool\n",
              "\n",
              "[13 rows x 9 columns]"
            ]
          },
          "metadata": {
            "tags": []
          }
        }
      ]
    },
    {
      "cell_type": "code",
      "metadata": {
        "ExecuteTime": {
          "end_time": "2017-09-09T12:29:04.162444Z",
          "start_time": "2017-09-09T12:29:04.102414Z"
        },
        "id": "cDcQthQHc7N7",
        "outputId": "6aff55c8-0bba-4fac-da06-054efb636da9",
        "colab": {
          "base_uri": "https://localhost:8080/",
          "height": 639
        }
      },
      "source": [
        "display(store.head())\n",
        "display(DataFrameSummary(store).summary())"
      ],
      "execution_count": 67,
      "outputs": [
        {
          "output_type": "display_data",
          "data": {
            "text/html": [
              "<div>\n",
              "<style scoped>\n",
              "    .dataframe tbody tr th:only-of-type {\n",
              "        vertical-align: middle;\n",
              "    }\n",
              "\n",
              "    .dataframe tbody tr th {\n",
              "        vertical-align: top;\n",
              "    }\n",
              "\n",
              "    .dataframe thead th {\n",
              "        text-align: right;\n",
              "    }\n",
              "</style>\n",
              "<table border=\"1\" class=\"dataframe\">\n",
              "  <thead>\n",
              "    <tr style=\"text-align: right;\">\n",
              "      <th></th>\n",
              "      <th>Store</th>\n",
              "      <th>StoreType</th>\n",
              "      <th>Assortment</th>\n",
              "      <th>CompetitionDistance</th>\n",
              "      <th>CompetitionOpenSinceMonth</th>\n",
              "      <th>CompetitionOpenSinceYear</th>\n",
              "      <th>Promo2</th>\n",
              "      <th>Promo2SinceWeek</th>\n",
              "      <th>Promo2SinceYear</th>\n",
              "      <th>PromoInterval</th>\n",
              "    </tr>\n",
              "  </thead>\n",
              "  <tbody>\n",
              "    <tr>\n",
              "      <th>0</th>\n",
              "      <td>1</td>\n",
              "      <td>c</td>\n",
              "      <td>a</td>\n",
              "      <td>1270.0</td>\n",
              "      <td>9.0</td>\n",
              "      <td>2008.0</td>\n",
              "      <td>0</td>\n",
              "      <td>NaN</td>\n",
              "      <td>NaN</td>\n",
              "      <td>NaN</td>\n",
              "    </tr>\n",
              "    <tr>\n",
              "      <th>1</th>\n",
              "      <td>2</td>\n",
              "      <td>a</td>\n",
              "      <td>a</td>\n",
              "      <td>570.0</td>\n",
              "      <td>11.0</td>\n",
              "      <td>2007.0</td>\n",
              "      <td>1</td>\n",
              "      <td>13.0</td>\n",
              "      <td>2010.0</td>\n",
              "      <td>Jan,Apr,Jul,Oct</td>\n",
              "    </tr>\n",
              "    <tr>\n",
              "      <th>2</th>\n",
              "      <td>3</td>\n",
              "      <td>a</td>\n",
              "      <td>a</td>\n",
              "      <td>14130.0</td>\n",
              "      <td>12.0</td>\n",
              "      <td>2006.0</td>\n",
              "      <td>1</td>\n",
              "      <td>14.0</td>\n",
              "      <td>2011.0</td>\n",
              "      <td>Jan,Apr,Jul,Oct</td>\n",
              "    </tr>\n",
              "    <tr>\n",
              "      <th>3</th>\n",
              "      <td>4</td>\n",
              "      <td>c</td>\n",
              "      <td>c</td>\n",
              "      <td>620.0</td>\n",
              "      <td>9.0</td>\n",
              "      <td>2009.0</td>\n",
              "      <td>0</td>\n",
              "      <td>NaN</td>\n",
              "      <td>NaN</td>\n",
              "      <td>NaN</td>\n",
              "    </tr>\n",
              "    <tr>\n",
              "      <th>4</th>\n",
              "      <td>5</td>\n",
              "      <td>a</td>\n",
              "      <td>a</td>\n",
              "      <td>29910.0</td>\n",
              "      <td>4.0</td>\n",
              "      <td>2015.0</td>\n",
              "      <td>0</td>\n",
              "      <td>NaN</td>\n",
              "      <td>NaN</td>\n",
              "      <td>NaN</td>\n",
              "    </tr>\n",
              "  </tbody>\n",
              "</table>\n",
              "</div>"
            ],
            "text/plain": [
              "   Store StoreType  ... Promo2SinceYear    PromoInterval\n",
              "0      1         c  ...             NaN              NaN\n",
              "1      2         a  ...          2010.0  Jan,Apr,Jul,Oct\n",
              "2      3         a  ...          2011.0  Jan,Apr,Jul,Oct\n",
              "3      4         c  ...             NaN              NaN\n",
              "4      5         a  ...             NaN              NaN\n",
              "\n",
              "[5 rows x 10 columns]"
            ]
          },
          "metadata": {
            "tags": []
          }
        },
        {
          "output_type": "display_data",
          "data": {
            "text/html": [
              "<div>\n",
              "<style scoped>\n",
              "    .dataframe tbody tr th:only-of-type {\n",
              "        vertical-align: middle;\n",
              "    }\n",
              "\n",
              "    .dataframe tbody tr th {\n",
              "        vertical-align: top;\n",
              "    }\n",
              "\n",
              "    .dataframe thead th {\n",
              "        text-align: right;\n",
              "    }\n",
              "</style>\n",
              "<table border=\"1\" class=\"dataframe\">\n",
              "  <thead>\n",
              "    <tr style=\"text-align: right;\">\n",
              "      <th></th>\n",
              "      <th>Store</th>\n",
              "      <th>StoreType</th>\n",
              "      <th>Assortment</th>\n",
              "      <th>CompetitionDistance</th>\n",
              "      <th>CompetitionOpenSinceMonth</th>\n",
              "      <th>CompetitionOpenSinceYear</th>\n",
              "      <th>Promo2</th>\n",
              "      <th>Promo2SinceWeek</th>\n",
              "      <th>Promo2SinceYear</th>\n",
              "      <th>PromoInterval</th>\n",
              "    </tr>\n",
              "  </thead>\n",
              "  <tbody>\n",
              "    <tr>\n",
              "      <th>count</th>\n",
              "      <td>1115</td>\n",
              "      <td>NaN</td>\n",
              "      <td>NaN</td>\n",
              "      <td>1112</td>\n",
              "      <td>761</td>\n",
              "      <td>761</td>\n",
              "      <td>1115</td>\n",
              "      <td>571</td>\n",
              "      <td>571</td>\n",
              "      <td>NaN</td>\n",
              "    </tr>\n",
              "    <tr>\n",
              "      <th>mean</th>\n",
              "      <td>558</td>\n",
              "      <td>NaN</td>\n",
              "      <td>NaN</td>\n",
              "      <td>5404.9</td>\n",
              "      <td>7.2247</td>\n",
              "      <td>2008.67</td>\n",
              "      <td>0.512108</td>\n",
              "      <td>23.5954</td>\n",
              "      <td>2011.76</td>\n",
              "      <td>NaN</td>\n",
              "    </tr>\n",
              "    <tr>\n",
              "      <th>std</th>\n",
              "      <td>322.017</td>\n",
              "      <td>NaN</td>\n",
              "      <td>NaN</td>\n",
              "      <td>7663.17</td>\n",
              "      <td>3.21235</td>\n",
              "      <td>6.19598</td>\n",
              "      <td>0.500078</td>\n",
              "      <td>14.142</td>\n",
              "      <td>1.67494</td>\n",
              "      <td>NaN</td>\n",
              "    </tr>\n",
              "    <tr>\n",
              "      <th>min</th>\n",
              "      <td>1</td>\n",
              "      <td>NaN</td>\n",
              "      <td>NaN</td>\n",
              "      <td>20</td>\n",
              "      <td>1</td>\n",
              "      <td>1900</td>\n",
              "      <td>0</td>\n",
              "      <td>1</td>\n",
              "      <td>2009</td>\n",
              "      <td>NaN</td>\n",
              "    </tr>\n",
              "    <tr>\n",
              "      <th>25%</th>\n",
              "      <td>279.5</td>\n",
              "      <td>NaN</td>\n",
              "      <td>NaN</td>\n",
              "      <td>717.5</td>\n",
              "      <td>4</td>\n",
              "      <td>2006</td>\n",
              "      <td>0</td>\n",
              "      <td>13</td>\n",
              "      <td>2011</td>\n",
              "      <td>NaN</td>\n",
              "    </tr>\n",
              "    <tr>\n",
              "      <th>50%</th>\n",
              "      <td>558</td>\n",
              "      <td>NaN</td>\n",
              "      <td>NaN</td>\n",
              "      <td>2325</td>\n",
              "      <td>8</td>\n",
              "      <td>2010</td>\n",
              "      <td>1</td>\n",
              "      <td>22</td>\n",
              "      <td>2012</td>\n",
              "      <td>NaN</td>\n",
              "    </tr>\n",
              "    <tr>\n",
              "      <th>75%</th>\n",
              "      <td>836.5</td>\n",
              "      <td>NaN</td>\n",
              "      <td>NaN</td>\n",
              "      <td>6882.5</td>\n",
              "      <td>10</td>\n",
              "      <td>2013</td>\n",
              "      <td>1</td>\n",
              "      <td>37</td>\n",
              "      <td>2013</td>\n",
              "      <td>NaN</td>\n",
              "    </tr>\n",
              "    <tr>\n",
              "      <th>max</th>\n",
              "      <td>1115</td>\n",
              "      <td>NaN</td>\n",
              "      <td>NaN</td>\n",
              "      <td>75860</td>\n",
              "      <td>12</td>\n",
              "      <td>2015</td>\n",
              "      <td>1</td>\n",
              "      <td>50</td>\n",
              "      <td>2015</td>\n",
              "      <td>NaN</td>\n",
              "    </tr>\n",
              "    <tr>\n",
              "      <th>counts</th>\n",
              "      <td>1115</td>\n",
              "      <td>1115</td>\n",
              "      <td>1115</td>\n",
              "      <td>1112</td>\n",
              "      <td>761</td>\n",
              "      <td>761</td>\n",
              "      <td>1115</td>\n",
              "      <td>571</td>\n",
              "      <td>571</td>\n",
              "      <td>571</td>\n",
              "    </tr>\n",
              "    <tr>\n",
              "      <th>uniques</th>\n",
              "      <td>1115</td>\n",
              "      <td>4</td>\n",
              "      <td>3</td>\n",
              "      <td>654</td>\n",
              "      <td>12</td>\n",
              "      <td>23</td>\n",
              "      <td>2</td>\n",
              "      <td>24</td>\n",
              "      <td>7</td>\n",
              "      <td>3</td>\n",
              "    </tr>\n",
              "    <tr>\n",
              "      <th>missing</th>\n",
              "      <td>0</td>\n",
              "      <td>0</td>\n",
              "      <td>0</td>\n",
              "      <td>3</td>\n",
              "      <td>354</td>\n",
              "      <td>354</td>\n",
              "      <td>0</td>\n",
              "      <td>544</td>\n",
              "      <td>544</td>\n",
              "      <td>544</td>\n",
              "    </tr>\n",
              "    <tr>\n",
              "      <th>missing_perc</th>\n",
              "      <td>0%</td>\n",
              "      <td>0%</td>\n",
              "      <td>0%</td>\n",
              "      <td>0.27%</td>\n",
              "      <td>31.75%</td>\n",
              "      <td>31.75%</td>\n",
              "      <td>0%</td>\n",
              "      <td>48.79%</td>\n",
              "      <td>48.79%</td>\n",
              "      <td>48.79%</td>\n",
              "    </tr>\n",
              "    <tr>\n",
              "      <th>types</th>\n",
              "      <td>numeric</td>\n",
              "      <td>categorical</td>\n",
              "      <td>categorical</td>\n",
              "      <td>numeric</td>\n",
              "      <td>numeric</td>\n",
              "      <td>numeric</td>\n",
              "      <td>bool</td>\n",
              "      <td>numeric</td>\n",
              "      <td>numeric</td>\n",
              "      <td>categorical</td>\n",
              "    </tr>\n",
              "  </tbody>\n",
              "</table>\n",
              "</div>"
            ],
            "text/plain": [
              "                Store    StoreType  ... Promo2SinceYear PromoInterval\n",
              "count            1115          NaN  ...             571           NaN\n",
              "mean              558          NaN  ...         2011.76           NaN\n",
              "std           322.017          NaN  ...         1.67494           NaN\n",
              "min                 1          NaN  ...            2009           NaN\n",
              "25%             279.5          NaN  ...            2011           NaN\n",
              "50%               558          NaN  ...            2012           NaN\n",
              "75%             836.5          NaN  ...            2013           NaN\n",
              "max              1115          NaN  ...            2015           NaN\n",
              "counts           1115         1115  ...             571           571\n",
              "uniques          1115            4  ...               7             3\n",
              "missing             0            0  ...             544           544\n",
              "missing_perc       0%           0%  ...          48.79%        48.79%\n",
              "types         numeric  categorical  ...         numeric   categorical\n",
              "\n",
              "[13 rows x 10 columns]"
            ]
          },
          "metadata": {
            "tags": []
          }
        }
      ]
    },
    {
      "cell_type": "code",
      "metadata": {
        "ExecuteTime": {
          "end_time": "2017-09-09T12:29:04.202439Z",
          "start_time": "2017-09-09T12:29:04.166159Z"
        },
        "id": "JHk5N7gBc7N9",
        "outputId": "40301173-6ba4-41f9-9d2e-aa95e2fdacdc",
        "colab": {
          "base_uri": "https://localhost:8080/",
          "height": 619
        }
      },
      "source": [
        "display(store_states.head())\n",
        "display(DataFrameSummary(store_states).summary())"
      ],
      "execution_count": 68,
      "outputs": [
        {
          "output_type": "display_data",
          "data": {
            "text/html": [
              "<div>\n",
              "<style scoped>\n",
              "    .dataframe tbody tr th:only-of-type {\n",
              "        vertical-align: middle;\n",
              "    }\n",
              "\n",
              "    .dataframe tbody tr th {\n",
              "        vertical-align: top;\n",
              "    }\n",
              "\n",
              "    .dataframe thead th {\n",
              "        text-align: right;\n",
              "    }\n",
              "</style>\n",
              "<table border=\"1\" class=\"dataframe\">\n",
              "  <thead>\n",
              "    <tr style=\"text-align: right;\">\n",
              "      <th></th>\n",
              "      <th>Store</th>\n",
              "      <th>State</th>\n",
              "    </tr>\n",
              "  </thead>\n",
              "  <tbody>\n",
              "    <tr>\n",
              "      <th>0</th>\n",
              "      <td>1</td>\n",
              "      <td>HE</td>\n",
              "    </tr>\n",
              "    <tr>\n",
              "      <th>1</th>\n",
              "      <td>2</td>\n",
              "      <td>TH</td>\n",
              "    </tr>\n",
              "    <tr>\n",
              "      <th>2</th>\n",
              "      <td>3</td>\n",
              "      <td>NW</td>\n",
              "    </tr>\n",
              "    <tr>\n",
              "      <th>3</th>\n",
              "      <td>4</td>\n",
              "      <td>BE</td>\n",
              "    </tr>\n",
              "    <tr>\n",
              "      <th>4</th>\n",
              "      <td>5</td>\n",
              "      <td>SN</td>\n",
              "    </tr>\n",
              "  </tbody>\n",
              "</table>\n",
              "</div>"
            ],
            "text/plain": [
              "   Store State\n",
              "0      1    HE\n",
              "1      2    TH\n",
              "2      3    NW\n",
              "3      4    BE\n",
              "4      5    SN"
            ]
          },
          "metadata": {
            "tags": []
          }
        },
        {
          "output_type": "display_data",
          "data": {
            "text/html": [
              "<div>\n",
              "<style scoped>\n",
              "    .dataframe tbody tr th:only-of-type {\n",
              "        vertical-align: middle;\n",
              "    }\n",
              "\n",
              "    .dataframe tbody tr th {\n",
              "        vertical-align: top;\n",
              "    }\n",
              "\n",
              "    .dataframe thead th {\n",
              "        text-align: right;\n",
              "    }\n",
              "</style>\n",
              "<table border=\"1\" class=\"dataframe\">\n",
              "  <thead>\n",
              "    <tr style=\"text-align: right;\">\n",
              "      <th></th>\n",
              "      <th>Store</th>\n",
              "      <th>State</th>\n",
              "    </tr>\n",
              "  </thead>\n",
              "  <tbody>\n",
              "    <tr>\n",
              "      <th>count</th>\n",
              "      <td>1115</td>\n",
              "      <td>NaN</td>\n",
              "    </tr>\n",
              "    <tr>\n",
              "      <th>mean</th>\n",
              "      <td>558</td>\n",
              "      <td>NaN</td>\n",
              "    </tr>\n",
              "    <tr>\n",
              "      <th>std</th>\n",
              "      <td>322.017</td>\n",
              "      <td>NaN</td>\n",
              "    </tr>\n",
              "    <tr>\n",
              "      <th>min</th>\n",
              "      <td>1</td>\n",
              "      <td>NaN</td>\n",
              "    </tr>\n",
              "    <tr>\n",
              "      <th>25%</th>\n",
              "      <td>279.5</td>\n",
              "      <td>NaN</td>\n",
              "    </tr>\n",
              "    <tr>\n",
              "      <th>50%</th>\n",
              "      <td>558</td>\n",
              "      <td>NaN</td>\n",
              "    </tr>\n",
              "    <tr>\n",
              "      <th>75%</th>\n",
              "      <td>836.5</td>\n",
              "      <td>NaN</td>\n",
              "    </tr>\n",
              "    <tr>\n",
              "      <th>max</th>\n",
              "      <td>1115</td>\n",
              "      <td>NaN</td>\n",
              "    </tr>\n",
              "    <tr>\n",
              "      <th>counts</th>\n",
              "      <td>1115</td>\n",
              "      <td>1115</td>\n",
              "    </tr>\n",
              "    <tr>\n",
              "      <th>uniques</th>\n",
              "      <td>1115</td>\n",
              "      <td>12</td>\n",
              "    </tr>\n",
              "    <tr>\n",
              "      <th>missing</th>\n",
              "      <td>0</td>\n",
              "      <td>0</td>\n",
              "    </tr>\n",
              "    <tr>\n",
              "      <th>missing_perc</th>\n",
              "      <td>0%</td>\n",
              "      <td>0%</td>\n",
              "    </tr>\n",
              "    <tr>\n",
              "      <th>types</th>\n",
              "      <td>numeric</td>\n",
              "      <td>categorical</td>\n",
              "    </tr>\n",
              "  </tbody>\n",
              "</table>\n",
              "</div>"
            ],
            "text/plain": [
              "                Store        State\n",
              "count            1115          NaN\n",
              "mean              558          NaN\n",
              "std           322.017          NaN\n",
              "min                 1          NaN\n",
              "25%             279.5          NaN\n",
              "50%               558          NaN\n",
              "75%             836.5          NaN\n",
              "max              1115          NaN\n",
              "counts           1115         1115\n",
              "uniques          1115           12\n",
              "missing             0            0\n",
              "missing_perc       0%           0%\n",
              "types         numeric  categorical"
            ]
          },
          "metadata": {
            "tags": []
          }
        }
      ]
    },
    {
      "cell_type": "code",
      "metadata": {
        "ExecuteTime": {
          "end_time": "2017-09-09T12:29:04.238509Z",
          "start_time": "2017-09-09T12:29:04.206331Z"
        },
        "id": "w0WdtVLec7N_",
        "outputId": "3b2ac40d-2016-463d-94fd-e0ea205033f2",
        "colab": {
          "base_uri": "https://localhost:8080/",
          "height": 499
        }
      },
      "source": [
        "display(state_names.head())\n",
        "display(DataFrameSummary(state_names).summary())"
      ],
      "execution_count": 69,
      "outputs": [
        {
          "output_type": "display_data",
          "data": {
            "text/html": [
              "<div>\n",
              "<style scoped>\n",
              "    .dataframe tbody tr th:only-of-type {\n",
              "        vertical-align: middle;\n",
              "    }\n",
              "\n",
              "    .dataframe tbody tr th {\n",
              "        vertical-align: top;\n",
              "    }\n",
              "\n",
              "    .dataframe thead th {\n",
              "        text-align: right;\n",
              "    }\n",
              "</style>\n",
              "<table border=\"1\" class=\"dataframe\">\n",
              "  <thead>\n",
              "    <tr style=\"text-align: right;\">\n",
              "      <th></th>\n",
              "      <th>StateName</th>\n",
              "      <th>State</th>\n",
              "    </tr>\n",
              "  </thead>\n",
              "  <tbody>\n",
              "    <tr>\n",
              "      <th>0</th>\n",
              "      <td>BadenWuerttemberg</td>\n",
              "      <td>BW</td>\n",
              "    </tr>\n",
              "    <tr>\n",
              "      <th>1</th>\n",
              "      <td>Bayern</td>\n",
              "      <td>BY</td>\n",
              "    </tr>\n",
              "    <tr>\n",
              "      <th>2</th>\n",
              "      <td>Berlin</td>\n",
              "      <td>BE</td>\n",
              "    </tr>\n",
              "    <tr>\n",
              "      <th>3</th>\n",
              "      <td>Brandenburg</td>\n",
              "      <td>BB</td>\n",
              "    </tr>\n",
              "    <tr>\n",
              "      <th>4</th>\n",
              "      <td>Bremen</td>\n",
              "      <td>HB</td>\n",
              "    </tr>\n",
              "  </tbody>\n",
              "</table>\n",
              "</div>"
            ],
            "text/plain": [
              "           StateName State\n",
              "0  BadenWuerttemberg    BW\n",
              "1             Bayern    BY\n",
              "2             Berlin    BE\n",
              "3        Brandenburg    BB\n",
              "4             Bremen    HB"
            ]
          },
          "metadata": {
            "tags": []
          }
        },
        {
          "output_type": "display_data",
          "data": {
            "text/html": [
              "<div>\n",
              "<style scoped>\n",
              "    .dataframe tbody tr th:only-of-type {\n",
              "        vertical-align: middle;\n",
              "    }\n",
              "\n",
              "    .dataframe tbody tr th {\n",
              "        vertical-align: top;\n",
              "    }\n",
              "\n",
              "    .dataframe thead th {\n",
              "        text-align: right;\n",
              "    }\n",
              "</style>\n",
              "<table border=\"1\" class=\"dataframe\">\n",
              "  <thead>\n",
              "    <tr style=\"text-align: right;\">\n",
              "      <th></th>\n",
              "      <th>StateName</th>\n",
              "      <th>State</th>\n",
              "    </tr>\n",
              "  </thead>\n",
              "  <tbody>\n",
              "    <tr>\n",
              "      <th>count</th>\n",
              "      <td>16</td>\n",
              "      <td>16</td>\n",
              "    </tr>\n",
              "    <tr>\n",
              "      <th>unique</th>\n",
              "      <td>16</td>\n",
              "      <td>16</td>\n",
              "    </tr>\n",
              "    <tr>\n",
              "      <th>top</th>\n",
              "      <td>Niedersachsen</td>\n",
              "      <td>SN</td>\n",
              "    </tr>\n",
              "    <tr>\n",
              "      <th>freq</th>\n",
              "      <td>1</td>\n",
              "      <td>1</td>\n",
              "    </tr>\n",
              "    <tr>\n",
              "      <th>counts</th>\n",
              "      <td>16</td>\n",
              "      <td>16</td>\n",
              "    </tr>\n",
              "    <tr>\n",
              "      <th>uniques</th>\n",
              "      <td>16</td>\n",
              "      <td>16</td>\n",
              "    </tr>\n",
              "    <tr>\n",
              "      <th>missing</th>\n",
              "      <td>0</td>\n",
              "      <td>0</td>\n",
              "    </tr>\n",
              "    <tr>\n",
              "      <th>missing_perc</th>\n",
              "      <td>0%</td>\n",
              "      <td>0%</td>\n",
              "    </tr>\n",
              "    <tr>\n",
              "      <th>types</th>\n",
              "      <td>unique</td>\n",
              "      <td>unique</td>\n",
              "    </tr>\n",
              "  </tbody>\n",
              "</table>\n",
              "</div>"
            ],
            "text/plain": [
              "                  StateName   State\n",
              "count                    16      16\n",
              "unique                   16      16\n",
              "top           Niedersachsen      SN\n",
              "freq                      1       1\n",
              "counts                   16      16\n",
              "uniques                  16      16\n",
              "missing                   0       0\n",
              "missing_perc             0%      0%\n",
              "types                unique  unique"
            ]
          },
          "metadata": {
            "tags": []
          }
        }
      ]
    },
    {
      "cell_type": "markdown",
      "metadata": {
        "id": "K9A9umQKc7OB"
      },
      "source": [
        "This is very representative of a typical industry dataset."
      ]
    },
    {
      "cell_type": "markdown",
      "metadata": {
        "id": "fNjwHZVAc7OC"
      },
      "source": [
        "The following returns summarized aggregate information to each table accross each field."
      ]
    },
    {
      "cell_type": "code",
      "metadata": {
        "ExecuteTime": {
          "end_time": "2017-09-09T12:29:04.278447Z",
          "start_time": "2017-09-09T12:29:04.242482Z"
        },
        "scrolled": false,
        "id": "fWnq9ZFec7OC",
        "outputId": "1bd63409-f018-49f8-9a45-cb4ac2558b02",
        "colab": {
          "base_uri": "https://localhost:8080/",
          "height": 619
        }
      },
      "source": [
        "display(googletrend.head())\n",
        "display(DataFrameSummary(googletrend).summary())"
      ],
      "execution_count": 70,
      "outputs": [
        {
          "output_type": "display_data",
          "data": {
            "text/html": [
              "<div>\n",
              "<style scoped>\n",
              "    .dataframe tbody tr th:only-of-type {\n",
              "        vertical-align: middle;\n",
              "    }\n",
              "\n",
              "    .dataframe tbody tr th {\n",
              "        vertical-align: top;\n",
              "    }\n",
              "\n",
              "    .dataframe thead th {\n",
              "        text-align: right;\n",
              "    }\n",
              "</style>\n",
              "<table border=\"1\" class=\"dataframe\">\n",
              "  <thead>\n",
              "    <tr style=\"text-align: right;\">\n",
              "      <th></th>\n",
              "      <th>file</th>\n",
              "      <th>week</th>\n",
              "      <th>trend</th>\n",
              "    </tr>\n",
              "  </thead>\n",
              "  <tbody>\n",
              "    <tr>\n",
              "      <th>0</th>\n",
              "      <td>Rossmann_DE_SN</td>\n",
              "      <td>2012-12-02 - 2012-12-08</td>\n",
              "      <td>96</td>\n",
              "    </tr>\n",
              "    <tr>\n",
              "      <th>1</th>\n",
              "      <td>Rossmann_DE_SN</td>\n",
              "      <td>2012-12-09 - 2012-12-15</td>\n",
              "      <td>95</td>\n",
              "    </tr>\n",
              "    <tr>\n",
              "      <th>2</th>\n",
              "      <td>Rossmann_DE_SN</td>\n",
              "      <td>2012-12-16 - 2012-12-22</td>\n",
              "      <td>91</td>\n",
              "    </tr>\n",
              "    <tr>\n",
              "      <th>3</th>\n",
              "      <td>Rossmann_DE_SN</td>\n",
              "      <td>2012-12-23 - 2012-12-29</td>\n",
              "      <td>48</td>\n",
              "    </tr>\n",
              "    <tr>\n",
              "      <th>4</th>\n",
              "      <td>Rossmann_DE_SN</td>\n",
              "      <td>2012-12-30 - 2013-01-05</td>\n",
              "      <td>67</td>\n",
              "    </tr>\n",
              "  </tbody>\n",
              "</table>\n",
              "</div>"
            ],
            "text/plain": [
              "             file                     week  trend\n",
              "0  Rossmann_DE_SN  2012-12-02 - 2012-12-08     96\n",
              "1  Rossmann_DE_SN  2012-12-09 - 2012-12-15     95\n",
              "2  Rossmann_DE_SN  2012-12-16 - 2012-12-22     91\n",
              "3  Rossmann_DE_SN  2012-12-23 - 2012-12-29     48\n",
              "4  Rossmann_DE_SN  2012-12-30 - 2013-01-05     67"
            ]
          },
          "metadata": {
            "tags": []
          }
        },
        {
          "output_type": "display_data",
          "data": {
            "text/html": [
              "<div>\n",
              "<style scoped>\n",
              "    .dataframe tbody tr th:only-of-type {\n",
              "        vertical-align: middle;\n",
              "    }\n",
              "\n",
              "    .dataframe tbody tr th {\n",
              "        vertical-align: top;\n",
              "    }\n",
              "\n",
              "    .dataframe thead th {\n",
              "        text-align: right;\n",
              "    }\n",
              "</style>\n",
              "<table border=\"1\" class=\"dataframe\">\n",
              "  <thead>\n",
              "    <tr style=\"text-align: right;\">\n",
              "      <th></th>\n",
              "      <th>file</th>\n",
              "      <th>week</th>\n",
              "      <th>trend</th>\n",
              "    </tr>\n",
              "  </thead>\n",
              "  <tbody>\n",
              "    <tr>\n",
              "      <th>count</th>\n",
              "      <td>NaN</td>\n",
              "      <td>NaN</td>\n",
              "      <td>2072</td>\n",
              "    </tr>\n",
              "    <tr>\n",
              "      <th>mean</th>\n",
              "      <td>NaN</td>\n",
              "      <td>NaN</td>\n",
              "      <td>63.8142</td>\n",
              "    </tr>\n",
              "    <tr>\n",
              "      <th>std</th>\n",
              "      <td>NaN</td>\n",
              "      <td>NaN</td>\n",
              "      <td>12.6502</td>\n",
              "    </tr>\n",
              "    <tr>\n",
              "      <th>min</th>\n",
              "      <td>NaN</td>\n",
              "      <td>NaN</td>\n",
              "      <td>0</td>\n",
              "    </tr>\n",
              "    <tr>\n",
              "      <th>25%</th>\n",
              "      <td>NaN</td>\n",
              "      <td>NaN</td>\n",
              "      <td>55</td>\n",
              "    </tr>\n",
              "    <tr>\n",
              "      <th>50%</th>\n",
              "      <td>NaN</td>\n",
              "      <td>NaN</td>\n",
              "      <td>64</td>\n",
              "    </tr>\n",
              "    <tr>\n",
              "      <th>75%</th>\n",
              "      <td>NaN</td>\n",
              "      <td>NaN</td>\n",
              "      <td>72</td>\n",
              "    </tr>\n",
              "    <tr>\n",
              "      <th>max</th>\n",
              "      <td>NaN</td>\n",
              "      <td>NaN</td>\n",
              "      <td>100</td>\n",
              "    </tr>\n",
              "    <tr>\n",
              "      <th>counts</th>\n",
              "      <td>2072</td>\n",
              "      <td>2072</td>\n",
              "      <td>2072</td>\n",
              "    </tr>\n",
              "    <tr>\n",
              "      <th>uniques</th>\n",
              "      <td>14</td>\n",
              "      <td>148</td>\n",
              "      <td>68</td>\n",
              "    </tr>\n",
              "    <tr>\n",
              "      <th>missing</th>\n",
              "      <td>0</td>\n",
              "      <td>0</td>\n",
              "      <td>0</td>\n",
              "    </tr>\n",
              "    <tr>\n",
              "      <th>missing_perc</th>\n",
              "      <td>0%</td>\n",
              "      <td>0%</td>\n",
              "      <td>0%</td>\n",
              "    </tr>\n",
              "    <tr>\n",
              "      <th>types</th>\n",
              "      <td>categorical</td>\n",
              "      <td>categorical</td>\n",
              "      <td>numeric</td>\n",
              "    </tr>\n",
              "  </tbody>\n",
              "</table>\n",
              "</div>"
            ],
            "text/plain": [
              "                     file         week    trend\n",
              "count                 NaN          NaN     2072\n",
              "mean                  NaN          NaN  63.8142\n",
              "std                   NaN          NaN  12.6502\n",
              "min                   NaN          NaN        0\n",
              "25%                   NaN          NaN       55\n",
              "50%                   NaN          NaN       64\n",
              "75%                   NaN          NaN       72\n",
              "max                   NaN          NaN      100\n",
              "counts               2072         2072     2072\n",
              "uniques                14          148       68\n",
              "missing                 0            0        0\n",
              "missing_perc           0%           0%       0%\n",
              "types         categorical  categorical  numeric"
            ]
          },
          "metadata": {
            "tags": []
          }
        }
      ]
    },
    {
      "cell_type": "code",
      "metadata": {
        "ExecuteTime": {
          "end_time": "2017-09-09T12:29:04.410462Z",
          "start_time": "2017-09-09T12:29:04.282681Z"
        },
        "id": "nsVaZkKic7OE",
        "outputId": "561e38b4-f5c4-49a7-a53b-0b04816f9aff",
        "colab": {
          "base_uri": "https://localhost:8080/",
          "height": 725
        }
      },
      "source": [
        "display(weather.head())\n",
        "display(DataFrameSummary(weather).summary())"
      ],
      "execution_count": 71,
      "outputs": [
        {
          "output_type": "display_data",
          "data": {
            "text/html": [
              "<div>\n",
              "<style scoped>\n",
              "    .dataframe tbody tr th:only-of-type {\n",
              "        vertical-align: middle;\n",
              "    }\n",
              "\n",
              "    .dataframe tbody tr th {\n",
              "        vertical-align: top;\n",
              "    }\n",
              "\n",
              "    .dataframe thead th {\n",
              "        text-align: right;\n",
              "    }\n",
              "</style>\n",
              "<table border=\"1\" class=\"dataframe\">\n",
              "  <thead>\n",
              "    <tr style=\"text-align: right;\">\n",
              "      <th></th>\n",
              "      <th>file</th>\n",
              "      <th>Date</th>\n",
              "      <th>Max_TemperatureC</th>\n",
              "      <th>Mean_TemperatureC</th>\n",
              "      <th>Min_TemperatureC</th>\n",
              "      <th>Dew_PointC</th>\n",
              "      <th>MeanDew_PointC</th>\n",
              "      <th>Min_DewpointC</th>\n",
              "      <th>Max_Humidity</th>\n",
              "      <th>Mean_Humidity</th>\n",
              "      <th>Min_Humidity</th>\n",
              "      <th>Max_Sea_Level_PressurehPa</th>\n",
              "      <th>Mean_Sea_Level_PressurehPa</th>\n",
              "      <th>Min_Sea_Level_PressurehPa</th>\n",
              "      <th>Max_VisibilityKm</th>\n",
              "      <th>Mean_VisibilityKm</th>\n",
              "      <th>Min_VisibilitykM</th>\n",
              "      <th>Max_Wind_SpeedKm_h</th>\n",
              "      <th>Mean_Wind_SpeedKm_h</th>\n",
              "      <th>Max_Gust_SpeedKm_h</th>\n",
              "      <th>Precipitationmm</th>\n",
              "      <th>CloudCover</th>\n",
              "      <th>Events</th>\n",
              "      <th>WindDirDegrees</th>\n",
              "    </tr>\n",
              "  </thead>\n",
              "  <tbody>\n",
              "    <tr>\n",
              "      <th>0</th>\n",
              "      <td>NordrheinWestfalen</td>\n",
              "      <td>2013-01-01</td>\n",
              "      <td>8</td>\n",
              "      <td>4</td>\n",
              "      <td>2</td>\n",
              "      <td>7</td>\n",
              "      <td>5</td>\n",
              "      <td>1</td>\n",
              "      <td>94</td>\n",
              "      <td>87</td>\n",
              "      <td>65</td>\n",
              "      <td>1013</td>\n",
              "      <td>1005</td>\n",
              "      <td>1001</td>\n",
              "      <td>31.0</td>\n",
              "      <td>12.0</td>\n",
              "      <td>4.0</td>\n",
              "      <td>39</td>\n",
              "      <td>26</td>\n",
              "      <td>58.0</td>\n",
              "      <td>5.08</td>\n",
              "      <td>6.0</td>\n",
              "      <td>Rain</td>\n",
              "      <td>215</td>\n",
              "    </tr>\n",
              "    <tr>\n",
              "      <th>1</th>\n",
              "      <td>NordrheinWestfalen</td>\n",
              "      <td>2013-01-02</td>\n",
              "      <td>7</td>\n",
              "      <td>4</td>\n",
              "      <td>1</td>\n",
              "      <td>5</td>\n",
              "      <td>3</td>\n",
              "      <td>2</td>\n",
              "      <td>93</td>\n",
              "      <td>85</td>\n",
              "      <td>78</td>\n",
              "      <td>1028</td>\n",
              "      <td>1022</td>\n",
              "      <td>1014</td>\n",
              "      <td>31.0</td>\n",
              "      <td>14.0</td>\n",
              "      <td>10.0</td>\n",
              "      <td>24</td>\n",
              "      <td>16</td>\n",
              "      <td>NaN</td>\n",
              "      <td>0.00</td>\n",
              "      <td>6.0</td>\n",
              "      <td>Rain</td>\n",
              "      <td>225</td>\n",
              "    </tr>\n",
              "    <tr>\n",
              "      <th>2</th>\n",
              "      <td>NordrheinWestfalen</td>\n",
              "      <td>2013-01-03</td>\n",
              "      <td>11</td>\n",
              "      <td>8</td>\n",
              "      <td>6</td>\n",
              "      <td>10</td>\n",
              "      <td>8</td>\n",
              "      <td>4</td>\n",
              "      <td>100</td>\n",
              "      <td>93</td>\n",
              "      <td>77</td>\n",
              "      <td>1035</td>\n",
              "      <td>1030</td>\n",
              "      <td>1026</td>\n",
              "      <td>31.0</td>\n",
              "      <td>8.0</td>\n",
              "      <td>2.0</td>\n",
              "      <td>26</td>\n",
              "      <td>21</td>\n",
              "      <td>NaN</td>\n",
              "      <td>1.02</td>\n",
              "      <td>7.0</td>\n",
              "      <td>Rain</td>\n",
              "      <td>240</td>\n",
              "    </tr>\n",
              "    <tr>\n",
              "      <th>3</th>\n",
              "      <td>NordrheinWestfalen</td>\n",
              "      <td>2013-01-04</td>\n",
              "      <td>9</td>\n",
              "      <td>9</td>\n",
              "      <td>8</td>\n",
              "      <td>9</td>\n",
              "      <td>9</td>\n",
              "      <td>8</td>\n",
              "      <td>100</td>\n",
              "      <td>94</td>\n",
              "      <td>87</td>\n",
              "      <td>1036</td>\n",
              "      <td>1035</td>\n",
              "      <td>1034</td>\n",
              "      <td>11.0</td>\n",
              "      <td>5.0</td>\n",
              "      <td>2.0</td>\n",
              "      <td>23</td>\n",
              "      <td>14</td>\n",
              "      <td>NaN</td>\n",
              "      <td>0.25</td>\n",
              "      <td>7.0</td>\n",
              "      <td>Rain</td>\n",
              "      <td>263</td>\n",
              "    </tr>\n",
              "    <tr>\n",
              "      <th>4</th>\n",
              "      <td>NordrheinWestfalen</td>\n",
              "      <td>2013-01-05</td>\n",
              "      <td>8</td>\n",
              "      <td>8</td>\n",
              "      <td>7</td>\n",
              "      <td>8</td>\n",
              "      <td>7</td>\n",
              "      <td>6</td>\n",
              "      <td>100</td>\n",
              "      <td>94</td>\n",
              "      <td>87</td>\n",
              "      <td>1035</td>\n",
              "      <td>1034</td>\n",
              "      <td>1033</td>\n",
              "      <td>10.0</td>\n",
              "      <td>6.0</td>\n",
              "      <td>3.0</td>\n",
              "      <td>16</td>\n",
              "      <td>10</td>\n",
              "      <td>NaN</td>\n",
              "      <td>0.00</td>\n",
              "      <td>7.0</td>\n",
              "      <td>Rain</td>\n",
              "      <td>268</td>\n",
              "    </tr>\n",
              "  </tbody>\n",
              "</table>\n",
              "</div>"
            ],
            "text/plain": [
              "                 file        Date  ...  Events  WindDirDegrees\n",
              "0  NordrheinWestfalen  2013-01-01  ...    Rain             215\n",
              "1  NordrheinWestfalen  2013-01-02  ...    Rain             225\n",
              "2  NordrheinWestfalen  2013-01-03  ...    Rain             240\n",
              "3  NordrheinWestfalen  2013-01-04  ...    Rain             263\n",
              "4  NordrheinWestfalen  2013-01-05  ...    Rain             268\n",
              "\n",
              "[5 rows x 24 columns]"
            ]
          },
          "metadata": {
            "tags": []
          }
        },
        {
          "output_type": "display_data",
          "data": {
            "text/html": [
              "<div>\n",
              "<style scoped>\n",
              "    .dataframe tbody tr th:only-of-type {\n",
              "        vertical-align: middle;\n",
              "    }\n",
              "\n",
              "    .dataframe tbody tr th {\n",
              "        vertical-align: top;\n",
              "    }\n",
              "\n",
              "    .dataframe thead th {\n",
              "        text-align: right;\n",
              "    }\n",
              "</style>\n",
              "<table border=\"1\" class=\"dataframe\">\n",
              "  <thead>\n",
              "    <tr style=\"text-align: right;\">\n",
              "      <th></th>\n",
              "      <th>file</th>\n",
              "      <th>Date</th>\n",
              "      <th>Max_TemperatureC</th>\n",
              "      <th>Mean_TemperatureC</th>\n",
              "      <th>Min_TemperatureC</th>\n",
              "      <th>Dew_PointC</th>\n",
              "      <th>MeanDew_PointC</th>\n",
              "      <th>Min_DewpointC</th>\n",
              "      <th>Max_Humidity</th>\n",
              "      <th>Mean_Humidity</th>\n",
              "      <th>Min_Humidity</th>\n",
              "      <th>Max_Sea_Level_PressurehPa</th>\n",
              "      <th>Mean_Sea_Level_PressurehPa</th>\n",
              "      <th>Min_Sea_Level_PressurehPa</th>\n",
              "      <th>Max_VisibilityKm</th>\n",
              "      <th>Mean_VisibilityKm</th>\n",
              "      <th>Min_VisibilitykM</th>\n",
              "      <th>Max_Wind_SpeedKm_h</th>\n",
              "      <th>Mean_Wind_SpeedKm_h</th>\n",
              "      <th>Max_Gust_SpeedKm_h</th>\n",
              "      <th>Precipitationmm</th>\n",
              "      <th>CloudCover</th>\n",
              "      <th>Events</th>\n",
              "      <th>WindDirDegrees</th>\n",
              "    </tr>\n",
              "  </thead>\n",
              "  <tbody>\n",
              "    <tr>\n",
              "      <th>count</th>\n",
              "      <td>NaN</td>\n",
              "      <td>NaN</td>\n",
              "      <td>15840</td>\n",
              "      <td>15840</td>\n",
              "      <td>15840</td>\n",
              "      <td>15840</td>\n",
              "      <td>15840</td>\n",
              "      <td>15840</td>\n",
              "      <td>15840</td>\n",
              "      <td>15840</td>\n",
              "      <td>15840</td>\n",
              "      <td>15840</td>\n",
              "      <td>15840</td>\n",
              "      <td>15840</td>\n",
              "      <td>15459</td>\n",
              "      <td>15459</td>\n",
              "      <td>15459</td>\n",
              "      <td>15840</td>\n",
              "      <td>15840</td>\n",
              "      <td>3604</td>\n",
              "      <td>15840</td>\n",
              "      <td>14667</td>\n",
              "      <td>NaN</td>\n",
              "      <td>15840</td>\n",
              "    </tr>\n",
              "    <tr>\n",
              "      <th>mean</th>\n",
              "      <td>NaN</td>\n",
              "      <td>NaN</td>\n",
              "      <td>14.6441</td>\n",
              "      <td>10.389</td>\n",
              "      <td>6.19899</td>\n",
              "      <td>8.58782</td>\n",
              "      <td>6.20581</td>\n",
              "      <td>3.62614</td>\n",
              "      <td>93.6596</td>\n",
              "      <td>74.2829</td>\n",
              "      <td>50.1586</td>\n",
              "      <td>1018.53</td>\n",
              "      <td>1015.3</td>\n",
              "      <td>1012.31</td>\n",
              "      <td>24.0576</td>\n",
              "      <td>12.2398</td>\n",
              "      <td>7.02516</td>\n",
              "      <td>22.7666</td>\n",
              "      <td>11.9722</td>\n",
              "      <td>48.8643</td>\n",
              "      <td>0.831718</td>\n",
              "      <td>5.55131</td>\n",
              "      <td>NaN</td>\n",
              "      <td>175.897</td>\n",
              "    </tr>\n",
              "    <tr>\n",
              "      <th>std</th>\n",
              "      <td>NaN</td>\n",
              "      <td>NaN</td>\n",
              "      <td>8.64601</td>\n",
              "      <td>7.37926</td>\n",
              "      <td>6.52639</td>\n",
              "      <td>6.24478</td>\n",
              "      <td>6.08677</td>\n",
              "      <td>6.12839</td>\n",
              "      <td>7.67853</td>\n",
              "      <td>13.4866</td>\n",
              "      <td>19.9602</td>\n",
              "      <td>7.78872</td>\n",
              "      <td>8.12331</td>\n",
              "      <td>8.60058</td>\n",
              "      <td>8.9768</td>\n",
              "      <td>5.06794</td>\n",
              "      <td>4.9806</td>\n",
              "      <td>8.98862</td>\n",
              "      <td>5.87284</td>\n",
              "      <td>13.027</td>\n",
              "      <td>2.51351</td>\n",
              "      <td>1.68771</td>\n",
              "      <td>NaN</td>\n",
              "      <td>101.589</td>\n",
              "    </tr>\n",
              "    <tr>\n",
              "      <th>min</th>\n",
              "      <td>NaN</td>\n",
              "      <td>NaN</td>\n",
              "      <td>-11</td>\n",
              "      <td>-13</td>\n",
              "      <td>-15</td>\n",
              "      <td>-14</td>\n",
              "      <td>-15</td>\n",
              "      <td>-73</td>\n",
              "      <td>44</td>\n",
              "      <td>30</td>\n",
              "      <td>4</td>\n",
              "      <td>976</td>\n",
              "      <td>974</td>\n",
              "      <td>970</td>\n",
              "      <td>0</td>\n",
              "      <td>0</td>\n",
              "      <td>0</td>\n",
              "      <td>3</td>\n",
              "      <td>2</td>\n",
              "      <td>21</td>\n",
              "      <td>0</td>\n",
              "      <td>0</td>\n",
              "      <td>NaN</td>\n",
              "      <td>-1</td>\n",
              "    </tr>\n",
              "    <tr>\n",
              "      <th>25%</th>\n",
              "      <td>NaN</td>\n",
              "      <td>NaN</td>\n",
              "      <td>8</td>\n",
              "      <td>4</td>\n",
              "      <td>1</td>\n",
              "      <td>4</td>\n",
              "      <td>2</td>\n",
              "      <td>-1</td>\n",
              "      <td>90.75</td>\n",
              "      <td>65</td>\n",
              "      <td>34</td>\n",
              "      <td>1014</td>\n",
              "      <td>1010</td>\n",
              "      <td>1007</td>\n",
              "      <td>14</td>\n",
              "      <td>10</td>\n",
              "      <td>3</td>\n",
              "      <td>16</td>\n",
              "      <td>8</td>\n",
              "      <td>39</td>\n",
              "      <td>0</td>\n",
              "      <td>5</td>\n",
              "      <td>NaN</td>\n",
              "      <td>80</td>\n",
              "    </tr>\n",
              "    <tr>\n",
              "      <th>50%</th>\n",
              "      <td>NaN</td>\n",
              "      <td>NaN</td>\n",
              "      <td>15</td>\n",
              "      <td>11</td>\n",
              "      <td>7</td>\n",
              "      <td>9</td>\n",
              "      <td>7</td>\n",
              "      <td>4</td>\n",
              "      <td>94</td>\n",
              "      <td>76</td>\n",
              "      <td>49</td>\n",
              "      <td>1019</td>\n",
              "      <td>1016</td>\n",
              "      <td>1013</td>\n",
              "      <td>31</td>\n",
              "      <td>11</td>\n",
              "      <td>7</td>\n",
              "      <td>21</td>\n",
              "      <td>11</td>\n",
              "      <td>48</td>\n",
              "      <td>0</td>\n",
              "      <td>6</td>\n",
              "      <td>NaN</td>\n",
              "      <td>202</td>\n",
              "    </tr>\n",
              "    <tr>\n",
              "      <th>75%</th>\n",
              "      <td>NaN</td>\n",
              "      <td>NaN</td>\n",
              "      <td>21</td>\n",
              "      <td>16</td>\n",
              "      <td>11</td>\n",
              "      <td>13</td>\n",
              "      <td>11</td>\n",
              "      <td>8</td>\n",
              "      <td>100</td>\n",
              "      <td>85</td>\n",
              "      <td>66</td>\n",
              "      <td>1024</td>\n",
              "      <td>1021</td>\n",
              "      <td>1018</td>\n",
              "      <td>31</td>\n",
              "      <td>14</td>\n",
              "      <td>10</td>\n",
              "      <td>27</td>\n",
              "      <td>14</td>\n",
              "      <td>55</td>\n",
              "      <td>0.25</td>\n",
              "      <td>7</td>\n",
              "      <td>NaN</td>\n",
              "      <td>256</td>\n",
              "    </tr>\n",
              "    <tr>\n",
              "      <th>max</th>\n",
              "      <td>NaN</td>\n",
              "      <td>NaN</td>\n",
              "      <td>39</td>\n",
              "      <td>31</td>\n",
              "      <td>24</td>\n",
              "      <td>25</td>\n",
              "      <td>20</td>\n",
              "      <td>19</td>\n",
              "      <td>100</td>\n",
              "      <td>100</td>\n",
              "      <td>100</td>\n",
              "      <td>1043</td>\n",
              "      <td>1040</td>\n",
              "      <td>1038</td>\n",
              "      <td>31</td>\n",
              "      <td>31</td>\n",
              "      <td>31</td>\n",
              "      <td>101</td>\n",
              "      <td>53</td>\n",
              "      <td>111</td>\n",
              "      <td>58.93</td>\n",
              "      <td>8</td>\n",
              "      <td>NaN</td>\n",
              "      <td>360</td>\n",
              "    </tr>\n",
              "    <tr>\n",
              "      <th>counts</th>\n",
              "      <td>15840</td>\n",
              "      <td>15840</td>\n",
              "      <td>15840</td>\n",
              "      <td>15840</td>\n",
              "      <td>15840</td>\n",
              "      <td>15840</td>\n",
              "      <td>15840</td>\n",
              "      <td>15840</td>\n",
              "      <td>15840</td>\n",
              "      <td>15840</td>\n",
              "      <td>15840</td>\n",
              "      <td>15840</td>\n",
              "      <td>15840</td>\n",
              "      <td>15840</td>\n",
              "      <td>15459</td>\n",
              "      <td>15459</td>\n",
              "      <td>15459</td>\n",
              "      <td>15840</td>\n",
              "      <td>15840</td>\n",
              "      <td>3604</td>\n",
              "      <td>15840</td>\n",
              "      <td>14667</td>\n",
              "      <td>11889</td>\n",
              "      <td>15840</td>\n",
              "    </tr>\n",
              "    <tr>\n",
              "      <th>uniques</th>\n",
              "      <td>16</td>\n",
              "      <td>990</td>\n",
              "      <td>51</td>\n",
              "      <td>45</td>\n",
              "      <td>40</td>\n",
              "      <td>40</td>\n",
              "      <td>36</td>\n",
              "      <td>40</td>\n",
              "      <td>53</td>\n",
              "      <td>71</td>\n",
              "      <td>93</td>\n",
              "      <td>67</td>\n",
              "      <td>67</td>\n",
              "      <td>69</td>\n",
              "      <td>24</td>\n",
              "      <td>32</td>\n",
              "      <td>24</td>\n",
              "      <td>44</td>\n",
              "      <td>29</td>\n",
              "      <td>47</td>\n",
              "      <td>41</td>\n",
              "      <td>9</td>\n",
              "      <td>21</td>\n",
              "      <td>362</td>\n",
              "    </tr>\n",
              "    <tr>\n",
              "      <th>missing</th>\n",
              "      <td>0</td>\n",
              "      <td>0</td>\n",
              "      <td>0</td>\n",
              "      <td>0</td>\n",
              "      <td>0</td>\n",
              "      <td>0</td>\n",
              "      <td>0</td>\n",
              "      <td>0</td>\n",
              "      <td>0</td>\n",
              "      <td>0</td>\n",
              "      <td>0</td>\n",
              "      <td>0</td>\n",
              "      <td>0</td>\n",
              "      <td>0</td>\n",
              "      <td>381</td>\n",
              "      <td>381</td>\n",
              "      <td>381</td>\n",
              "      <td>0</td>\n",
              "      <td>0</td>\n",
              "      <td>12236</td>\n",
              "      <td>0</td>\n",
              "      <td>1173</td>\n",
              "      <td>3951</td>\n",
              "      <td>0</td>\n",
              "    </tr>\n",
              "    <tr>\n",
              "      <th>missing_perc</th>\n",
              "      <td>0%</td>\n",
              "      <td>0%</td>\n",
              "      <td>0%</td>\n",
              "      <td>0%</td>\n",
              "      <td>0%</td>\n",
              "      <td>0%</td>\n",
              "      <td>0%</td>\n",
              "      <td>0%</td>\n",
              "      <td>0%</td>\n",
              "      <td>0%</td>\n",
              "      <td>0%</td>\n",
              "      <td>0%</td>\n",
              "      <td>0%</td>\n",
              "      <td>0%</td>\n",
              "      <td>2.41%</td>\n",
              "      <td>2.41%</td>\n",
              "      <td>2.41%</td>\n",
              "      <td>0%</td>\n",
              "      <td>0%</td>\n",
              "      <td>77.25%</td>\n",
              "      <td>0%</td>\n",
              "      <td>7.41%</td>\n",
              "      <td>24.94%</td>\n",
              "      <td>0%</td>\n",
              "    </tr>\n",
              "    <tr>\n",
              "      <th>types</th>\n",
              "      <td>categorical</td>\n",
              "      <td>categorical</td>\n",
              "      <td>numeric</td>\n",
              "      <td>numeric</td>\n",
              "      <td>numeric</td>\n",
              "      <td>numeric</td>\n",
              "      <td>numeric</td>\n",
              "      <td>numeric</td>\n",
              "      <td>numeric</td>\n",
              "      <td>numeric</td>\n",
              "      <td>numeric</td>\n",
              "      <td>numeric</td>\n",
              "      <td>numeric</td>\n",
              "      <td>numeric</td>\n",
              "      <td>numeric</td>\n",
              "      <td>numeric</td>\n",
              "      <td>numeric</td>\n",
              "      <td>numeric</td>\n",
              "      <td>numeric</td>\n",
              "      <td>numeric</td>\n",
              "      <td>numeric</td>\n",
              "      <td>numeric</td>\n",
              "      <td>categorical</td>\n",
              "      <td>numeric</td>\n",
              "    </tr>\n",
              "  </tbody>\n",
              "</table>\n",
              "</div>"
            ],
            "text/plain": [
              "                     file         Date  ...       Events WindDirDegrees\n",
              "count                 NaN          NaN  ...          NaN          15840\n",
              "mean                  NaN          NaN  ...          NaN        175.897\n",
              "std                   NaN          NaN  ...          NaN        101.589\n",
              "min                   NaN          NaN  ...          NaN             -1\n",
              "25%                   NaN          NaN  ...          NaN             80\n",
              "50%                   NaN          NaN  ...          NaN            202\n",
              "75%                   NaN          NaN  ...          NaN            256\n",
              "max                   NaN          NaN  ...          NaN            360\n",
              "counts              15840        15840  ...        11889          15840\n",
              "uniques                16          990  ...           21            362\n",
              "missing                 0            0  ...         3951              0\n",
              "missing_perc           0%           0%  ...       24.94%             0%\n",
              "types         categorical  categorical  ...  categorical        numeric\n",
              "\n",
              "[13 rows x 24 columns]"
            ]
          },
          "metadata": {
            "tags": []
          }
        }
      ]
    },
    {
      "cell_type": "markdown",
      "metadata": {
        "id": "z99eMl_Qc7OH"
      },
      "source": [
        "Most of the fields are self-explanatory. The following are descriptions for those that aren't.\n",
        "\n",
        "- `Customers`: the number of customers on a given day\n",
        "- `Open`: an indicator for whether the store was open: 0 = closed, 1 = open\n",
        "- `StateHoliday`: indicates a state holiday. Normally all stores, with few exceptions, are closed on state holidays. Note that all schools are closed on public holidays and weekends. a = public holiday, b = Easter holiday, c = Christmas, 0 = None\n",
        "- `SchoolHoliday`: indicates if the (Store, Date) was affected by the closure of public schools\n",
        "- `StoreType`: differentiates between 4 different store models: a, b, c, d\n",
        "- `Assortment`: describes an assortment level: a = basic, b = extra, c = extended\n",
        "- `CompetitionDistance`: distance in meters to the nearest competitor store\n",
        "- `CompetitionOpenSince[Month/Year]`: gives the approximate year and month of the time the nearest competitor was opened\n",
        "- `Promo`: indicates whether a store is running a promo on that day\n",
        "- `Promo2`: Promo2 is a continuing and consecutive promotion for some stores: 0 = store is not participating, 1 = store is participating\n",
        "- `Promo2Since[Year/Week]`: describes the year and calendar week when the store started participating in Promo2\n",
        "- `PromoInterval`: describes the consecutive intervals Promo2 is started, naming the months the promotion is started anew. E.g. \"Feb,May,Aug,Nov\" means each round starts in February, May, August, November of any given year for that store\n"
      ]
    },
    {
      "cell_type": "markdown",
      "metadata": {
        "id": "S5CfGR3Ec7OH"
      },
      "source": [
        "## Data Cleaning / Feature Engineering\n"
      ]
    },
    {
      "cell_type": "markdown",
      "metadata": {
        "id": "SrVKebgVc7OH"
      },
      "source": [
        "Data cleaning is the process of transforming the data into formats that the model can understand.\n",
        "\n",
        "Feature engineering is the process of using domain knowledge of the data to create features (columns) that make machine learning algorithms work. More meaningful features (field) make it easier to \"learn\". For example, we will create a field / column called \"CompetitionOpenSince\" and \"CompetitionDaysOpen\" using raw columns."
      ]
    },
    {
      "cell_type": "markdown",
      "metadata": {
        "id": "-jcF72m-c7OI"
      },
      "source": [
        "Turn state Holidays to Boolean:"
      ]
    },
    {
      "cell_type": "code",
      "metadata": {
        "ExecuteTime": {
          "end_time": "2017-09-09T12:29:04.486491Z",
          "start_time": "2017-09-09T12:29:04.414124Z"
        },
        "id": "HPhrjh-Yc7OI"
      },
      "source": [
        "train.StateHoliday = train.StateHoliday!='0'"
      ],
      "execution_count": 72,
      "outputs": []
    },
    {
      "cell_type": "markdown",
      "metadata": {
        "id": "b4KKoJ6pc7OL"
      },
      "source": [
        "Join weather/state names into a single table."
      ]
    },
    {
      "cell_type": "code",
      "metadata": {
        "ExecuteTime": {
          "end_time": "2017-09-09T12:29:04.502496Z",
          "start_time": "2017-09-09T12:29:04.490763Z"
        },
        "id": "eTrKVCUSc7OL"
      },
      "source": [
        "def join_df(left, right, left_on, right_on=None):\n",
        "    if right_on is None: right_on = left_on\n",
        "    return left.merge(right, how='left', left_on=left_on, right_on=right_on, \n",
        "                      suffixes=(\"\", \"_y\"))\n",
        "weather = join_df(weather, state_names, \"file\", \"StateName\")"
      ],
      "execution_count": 73,
      "outputs": []
    },
    {
      "cell_type": "markdown",
      "metadata": {
        "id": "8c0-P5oVc7OO"
      },
      "source": [
        "Extracting dates and state names from the given data and adding those columns.\n",
        "\n",
        "Replace all instances of state name 'NI' with the usage in the rest of the table, 'HB,NI'."
      ]
    },
    {
      "cell_type": "code",
      "metadata": {
        "ExecuteTime": {
          "end_time": "2017-09-09T12:29:04.530488Z",
          "start_time": "2017-09-09T12:29:04.506766Z"
        },
        "id": "AT8qig5uc7OO"
      },
      "source": [
        "googletrend['Date'] = googletrend.week.str.split(' - ', expand=True)[0]\n",
        "googletrend['State'] = googletrend.file.str.split('_', expand=True)[2]\n",
        "googletrend.loc[googletrend.State=='NI', \"State\"] = 'HB,NI'"
      ],
      "execution_count": 74,
      "outputs": []
    },
    {
      "cell_type": "markdown",
      "metadata": {
        "id": "QU4_zoCBc7OR"
      },
      "source": [
        "The following extracts particular date fields from a complete datetime for the purpose of constructing categoricals.\n",
        "Without expanding your date-time into these additional fields, you can't capture any trend/cyclical behavior as a function of time at any of these granularities.\n",
        "We'll add to every table w/ a date field."
      ]
    },
    {
      "cell_type": "code",
      "metadata": {
        "ExecuteTime": {
          "end_time": "2017-09-09T12:29:04.946837Z",
          "start_time": "2017-09-09T12:29:04.534787Z"
        },
        "id": "W64IvXggc7OR",
        "outputId": "f987336c-bdac-4bc2-8399-930ff6519d72",
        "colab": {
          "base_uri": "https://localhost:8080/"
        }
      },
      "source": [
        "def add_datepart(df):\n",
        "    df.Date = pd.to_datetime(df.Date)\n",
        "    df[\"Year\"] = df.Date.dt.year\n",
        "    df[\"Month\"] = df.Date.dt.month\n",
        "    df[\"Week\"] = df.Date.dt.week\n",
        "    df[\"Day\"] = df.Date.dt.day\n",
        "add_datepart(weather)\n",
        "add_datepart(googletrend)\n",
        "add_datepart(train)"
      ],
      "execution_count": 75,
      "outputs": [
        {
          "output_type": "stream",
          "text": [
            "/usr/local/lib/python3.6/dist-packages/ipykernel_launcher.py:5: FutureWarning: Series.dt.weekofyear and Series.dt.week have been deprecated.  Please use Series.dt.isocalendar().week instead.\n",
            "  \"\"\"\n"
          ],
          "name": "stderr"
        }
      ]
    },
    {
      "cell_type": "code",
      "metadata": {
        "ExecuteTime": {
          "end_time": "2017-09-09T12:29:04.958533Z",
          "start_time": "2017-09-09T12:29:04.952869Z"
        },
        "id": "4jxHTdo7c7OU"
      },
      "source": [
        "trend_de = googletrend[googletrend.file == 'Rossmann_DE']"
      ],
      "execution_count": 76,
      "outputs": []
    },
    {
      "cell_type": "markdown",
      "metadata": {
        "id": "EMMxxkgOc7OW"
      },
      "source": [
        "Now we can outer join all of our data into a single dataframe."
      ]
    },
    {
      "cell_type": "code",
      "metadata": {
        "ExecuteTime": {
          "end_time": "2017-09-09T12:29:04.974532Z",
          "start_time": "2017-09-09T12:29:04.963091Z"
        },
        "id": "ADD2AVW3c7OW",
        "outputId": "b29b440e-fbab-414f-9967-fd9f728dbd50",
        "colab": {
          "base_uri": "https://localhost:8080/"
        }
      },
      "source": [
        "store = join_df(store, store_states, \"Store\")\n",
        "len(store[store.State.isnull()])"
      ],
      "execution_count": 77,
      "outputs": [
        {
          "output_type": "execute_result",
          "data": {
            "text/plain": [
              "0"
            ]
          },
          "metadata": {
            "tags": []
          },
          "execution_count": 77
        }
      ]
    },
    {
      "cell_type": "code",
      "metadata": {
        "ExecuteTime": {
          "end_time": "2017-09-09T12:29:05.406573Z",
          "start_time": "2017-09-09T12:29:04.978780Z"
        },
        "id": "HjhGHtM7c7OY",
        "outputId": "f2636008-36be-4c68-e667-d1527f146d8d",
        "colab": {
          "base_uri": "https://localhost:8080/"
        }
      },
      "source": [
        "joined = join_df(train, store, \"Store\")\n",
        "len(joined[joined.StoreType.isnull()])"
      ],
      "execution_count": 78,
      "outputs": [
        {
          "output_type": "execute_result",
          "data": {
            "text/plain": [
              "0"
            ]
          },
          "metadata": {
            "tags": []
          },
          "execution_count": 78
        }
      ]
    },
    {
      "cell_type": "code",
      "metadata": {
        "ExecuteTime": {
          "end_time": "2017-09-09T12:29:05.894625Z",
          "start_time": "2017-09-09T12:29:05.410807Z"
        },
        "id": "X07Ed4Nec7Oa",
        "outputId": "45d41cfa-6615-489a-e178-fbe1558188db",
        "colab": {
          "base_uri": "https://localhost:8080/"
        }
      },
      "source": [
        "joined = join_df(joined, googletrend, [\"State\",\"Year\", \"Week\"])\n",
        "len(joined[joined.trend.isnull()])"
      ],
      "execution_count": 79,
      "outputs": [
        {
          "output_type": "execute_result",
          "data": {
            "text/plain": [
              "0"
            ]
          },
          "metadata": {
            "tags": []
          },
          "execution_count": 79
        }
      ]
    },
    {
      "cell_type": "code",
      "metadata": {
        "ExecuteTime": {
          "end_time": "2017-09-09T12:29:06.618699Z",
          "start_time": "2017-09-09T12:29:05.898522Z"
        },
        "id": "Pm9SgaNpc7Oc",
        "outputId": "b1766dc2-bda3-444c-f135-e41062cd0e8c",
        "colab": {
          "base_uri": "https://localhost:8080/"
        }
      },
      "source": [
        "joined = joined.merge(trend_de, 'left', [\"Year\", \"Week\"], suffixes=('', '_DE'))\n",
        "len(joined[joined.trend_DE.isnull()])"
      ],
      "execution_count": 80,
      "outputs": [
        {
          "output_type": "execute_result",
          "data": {
            "text/plain": [
              "0"
            ]
          },
          "metadata": {
            "tags": []
          },
          "execution_count": 80
        }
      ]
    },
    {
      "cell_type": "code",
      "metadata": {
        "ExecuteTime": {
          "end_time": "2017-09-09T12:29:08.122859Z",
          "start_time": "2017-09-09T12:29:06.622923Z"
        },
        "id": "dOUodrGcc7Oe",
        "outputId": "ca5777fd-fb67-43a0-b046-ad42a6126fb0",
        "colab": {
          "base_uri": "https://localhost:8080/"
        }
      },
      "source": [
        "joined = join_df(joined, weather, [\"State\",\"Date\"])\n",
        "len(joined[joined.Mean_TemperatureC.isnull()])"
      ],
      "execution_count": 81,
      "outputs": [
        {
          "output_type": "execute_result",
          "data": {
            "text/plain": [
              "0"
            ]
          },
          "metadata": {
            "tags": []
          },
          "execution_count": 81
        }
      ]
    },
    {
      "cell_type": "markdown",
      "metadata": {
        "id": "xOOaFCisc7Og"
      },
      "source": [
        "Next we'll fill in missing values to avoid complications w/ na's."
      ]
    },
    {
      "cell_type": "code",
      "metadata": {
        "ExecuteTime": {
          "end_time": "2017-09-09T12:29:08.214883Z",
          "start_time": "2017-09-09T12:29:08.126803Z"
        },
        "id": "U9d6gs4Bc7Og"
      },
      "source": [
        "joined.CompetitionOpenSinceYear = joined.CompetitionOpenSinceYear.fillna(1900).astype(np.int32)\n",
        "joined.CompetitionOpenSinceMonth = joined.CompetitionOpenSinceMonth.fillna(1).astype(np.int32)\n",
        "joined.Promo2SinceYear = joined.Promo2SinceYear.fillna(1900).astype(np.int32)\n",
        "joined.Promo2SinceWeek = joined.Promo2SinceWeek.fillna(1).astype(np.int32)"
      ],
      "execution_count": 82,
      "outputs": []
    },
    {
      "cell_type": "markdown",
      "metadata": {
        "id": "hVt28mEAc7Oi"
      },
      "source": [
        "Next we'll extract features \"CompetitionOpenSince\" and \"CompetitionDaysOpen\". Note the use of `apply()` in mapping a function across dataframe values."
      ]
    },
    {
      "cell_type": "code",
      "metadata": {
        "ExecuteTime": {
          "end_time": "2017-09-09T12:31:29.085813Z",
          "start_time": "2017-09-09T12:29:08.219195Z"
        },
        "id": "PnU_44Vsc7Oj"
      },
      "source": [
        "joined[\"CompetitionOpenSince\"] = pd.to_datetime(joined.apply(lambda x: datetime.datetime(\n",
        "    x.CompetitionOpenSinceYear, x.CompetitionOpenSinceMonth, 15), axis=1))"
      ],
      "execution_count": 83,
      "outputs": []
    },
    {
      "cell_type": "code",
      "metadata": {
        "id": "RocFWKmqc7Ol"
      },
      "source": [
        "joined[\"CompetitionDaysOpen\"] = joined.Date.subtract(joined[\"CompetitionOpenSince\"]).dt.days"
      ],
      "execution_count": 84,
      "outputs": []
    },
    {
      "cell_type": "markdown",
      "metadata": {
        "id": "S6WjvKuVc7On"
      },
      "source": [
        "We'll replace some erroneous / outlying data."
      ]
    },
    {
      "cell_type": "code",
      "metadata": {
        "ExecuteTime": {
          "end_time": "2017-09-09T12:31:29.209823Z",
          "start_time": "2017-09-09T12:31:29.090145Z"
        },
        "id": "nP_HSEIFc7On"
      },
      "source": [
        "joined.loc[joined.CompetitionDaysOpen<0, \"CompetitionDaysOpen\"] = 0\n",
        "joined.loc[joined.CompetitionOpenSinceYear<1990, \"CompetitionDaysOpen\"] = 0"
      ],
      "execution_count": 85,
      "outputs": []
    },
    {
      "cell_type": "markdown",
      "metadata": {
        "id": "G-XBY_0Ec7Oq"
      },
      "source": [
        "Added \"CompetitionMonthsOpen\" field, limit the maximum to 2 years to limit number of unique embeddings."
      ]
    },
    {
      "cell_type": "code",
      "metadata": {
        "ExecuteTime": {
          "end_time": "2017-09-09T12:31:29.337825Z",
          "start_time": "2017-09-09T12:31:29.214175Z"
        },
        "id": "eS5amUPMc7Oq",
        "outputId": "b512047b-9958-496c-ffe5-044ac7bf20e5",
        "colab": {
          "base_uri": "https://localhost:8080/"
        }
      },
      "source": [
        "joined[\"CompetitionMonthsOpen\"] = joined[\"CompetitionDaysOpen\"]//30\n",
        "joined.loc[joined.CompetitionMonthsOpen>24, \"CompetitionMonthsOpen\"] = 24\n",
        "joined.CompetitionMonthsOpen.unique()"
      ],
      "execution_count": 86,
      "outputs": [
        {
          "output_type": "execute_result",
          "data": {
            "text/plain": [
              "array([24,  3, 19,  9,  0, 16, 17,  7, 15, 22, 11, 13,  2, 23, 12,  4, 10,\n",
              "        1, 14, 20,  8, 18,  6, 21,  5])"
            ]
          },
          "metadata": {
            "tags": []
          },
          "execution_count": 86
        }
      ]
    },
    {
      "cell_type": "markdown",
      "metadata": {
        "id": "uCynPDw_c7Os"
      },
      "source": [
        "Same process for Promo dates."
      ]
    },
    {
      "cell_type": "code",
      "metadata": {
        "ExecuteTime": {
          "end_time": "2017-09-09T12:33:57.741676Z",
          "start_time": "2017-09-09T12:31:29.341763Z"
        },
        "id": "l7BZuwxjc7Ot"
      },
      "source": [
        "joined[\"Promo2Since\"] = pd.to_datetime(joined.apply(lambda x: Week(\n",
        "    x.Promo2SinceYear, x.Promo2SinceWeek).monday(), axis=1))\n",
        "joined[\"Promo2Days\"] = joined.Date.subtract(joined[\"Promo2Since\"]).dt.days"
      ],
      "execution_count": 87,
      "outputs": []
    },
    {
      "cell_type": "code",
      "metadata": {
        "ExecuteTime": {
          "end_time": "2017-09-09T12:33:57.861678Z",
          "start_time": "2017-09-09T12:33:57.745966Z"
        },
        "id": "_6ysyatgc7Ov"
      },
      "source": [
        "joined.loc[joined.Promo2Days<0, \"Promo2Days\"] = 0\n",
        "joined.loc[joined.Promo2SinceYear<1990, \"Promo2Days\"] = 0"
      ],
      "execution_count": 88,
      "outputs": []
    },
    {
      "cell_type": "code",
      "metadata": {
        "ExecuteTime": {
          "end_time": "2017-09-09T12:33:58.009680Z",
          "start_time": "2017-09-09T12:33:57.865983Z"
        },
        "id": "bG7oqrmPc7Ox",
        "outputId": "fb599e10-6df6-404a-e4ff-54deda109bb3",
        "colab": {
          "base_uri": "https://localhost:8080/"
        }
      },
      "source": [
        "joined[\"Promo2Weeks\"] = joined[\"Promo2Days\"]//7\n",
        "joined.loc[joined.Promo2Weeks<0, \"Promo2Weeks\"] = 0\n",
        "joined.loc[joined.Promo2Weeks>25, \"Promo2Weeks\"] = 25\n",
        "joined.Promo2Weeks.unique()"
      ],
      "execution_count": 89,
      "outputs": [
        {
          "output_type": "execute_result",
          "data": {
            "text/plain": [
              "array([ 0, 25, 17,  8, 13, 24, 16,  7, 12, 23, 15,  6, 11, 22, 14,  5, 10,\n",
              "       21,  4,  9, 20,  3, 19,  2, 18,  1])"
            ]
          },
          "metadata": {
            "tags": []
          },
          "execution_count": 89
        }
      ]
    },
    {
      "cell_type": "code",
      "metadata": {
        "id": "ajvMcEbrc7Oz",
        "outputId": "f9be4cfe-7dc0-4cea-92c5-15232d4e0c51",
        "colab": {
          "base_uri": "https://localhost:8080/"
        }
      },
      "source": [
        "joined.columns"
      ],
      "execution_count": 90,
      "outputs": [
        {
          "output_type": "execute_result",
          "data": {
            "text/plain": [
              "Index(['Store', 'DayOfWeek', 'Date', 'Sales', 'Customers', 'Open', 'Promo',\n",
              "       'StateHoliday', 'SchoolHoliday', 'Year', 'Month', 'Week', 'Day',\n",
              "       'StoreType', 'Assortment', 'CompetitionDistance',\n",
              "       'CompetitionOpenSinceMonth', 'CompetitionOpenSinceYear', 'Promo2',\n",
              "       'Promo2SinceWeek', 'Promo2SinceYear', 'PromoInterval', 'State', 'file',\n",
              "       'week', 'trend', 'Date_y', 'Month_y', 'Day_y', 'file_DE', 'week_DE',\n",
              "       'trend_DE', 'Date_DE', 'State_DE', 'Month_DE', 'Day_DE', 'file_y',\n",
              "       'Max_TemperatureC', 'Mean_TemperatureC', 'Min_TemperatureC',\n",
              "       'Dew_PointC', 'MeanDew_PointC', 'Min_DewpointC', 'Max_Humidity',\n",
              "       'Mean_Humidity', 'Min_Humidity', 'Max_Sea_Level_PressurehPa',\n",
              "       'Mean_Sea_Level_PressurehPa', 'Min_Sea_Level_PressurehPa',\n",
              "       'Max_VisibilityKm', 'Mean_VisibilityKm', 'Min_VisibilitykM',\n",
              "       'Max_Wind_SpeedKm_h', 'Mean_Wind_SpeedKm_h', 'Max_Gust_SpeedKm_h',\n",
              "       'Precipitationmm', 'CloudCover', 'Events', 'WindDirDegrees',\n",
              "       'StateName', 'Year_y', 'Month_y', 'Week_y', 'Day_y',\n",
              "       'CompetitionOpenSince', 'CompetitionDaysOpen', 'CompetitionMonthsOpen',\n",
              "       'Promo2Since', 'Promo2Days', 'Promo2Weeks'],\n",
              "      dtype='object')"
            ]
          },
          "metadata": {
            "tags": []
          },
          "execution_count": 90
        }
      ]
    },
    {
      "cell_type": "code",
      "metadata": {
        "id": "ikf2XYmLc7O1",
        "outputId": "c658a016-161f-403c-bb59-edf38eeda0ea",
        "colab": {
          "base_uri": "https://localhost:8080/"
        }
      },
      "source": [
        "joined.columns.value_counts()"
      ],
      "execution_count": 91,
      "outputs": [
        {
          "output_type": "execute_result",
          "data": {
            "text/plain": [
              "Month_y                2\n",
              "Day_y                  2\n",
              "trend_DE               1\n",
              "Week                   1\n",
              "Year_y                 1\n",
              "                      ..\n",
              "Min_VisibilitykM       1\n",
              "Open                   1\n",
              "Mean_Wind_SpeedKm_h    1\n",
              "Mean_VisibilityKm      1\n",
              "Promo2SinceWeek        1\n",
              "Length: 68, dtype: int64"
            ]
          },
          "metadata": {
            "tags": []
          },
          "execution_count": 91
        }
      ]
    },
    {
      "cell_type": "markdown",
      "metadata": {
        "id": "64DyRnWyc7O4"
      },
      "source": [
        "## Durations"
      ]
    },
    {
      "cell_type": "markdown",
      "metadata": {
        "id": "DVvfXLUPc7O4"
      },
      "source": [
        "It is common when working with time series data to extract data that explains relationships across rows as opposed to columns, e.g.:\n",
        "* Running averages\n",
        "* Time until next event\n",
        "* Time since last event\n",
        "\n",
        "This is often difficult to do with most table manipulation frameworks, since they are designed to work with relationships across columns. As such, we've created a class to handle this type of data."
      ]
    },
    {
      "cell_type": "code",
      "metadata": {
        "ExecuteTime": {
          "end_time": "2017-09-09T12:33:58.017675Z",
          "start_time": "2017-09-09T12:33:58.013588Z"
        },
        "id": "w0vuN2Rsc7O5"
      },
      "source": [
        "columns = [\"Date\", \"Store\", \"Promo\", \"StateHoliday\", \"SchoolHoliday\"]"
      ],
      "execution_count": 92,
      "outputs": []
    },
    {
      "cell_type": "markdown",
      "metadata": {
        "id": "r4JD62dbc7O7"
      },
      "source": [
        "We've defined a class `elapsed` for cumulative counting across a sorted dataframe.\n",
        "\n",
        "Given a particular field `fld` to monitor, this object will start tracking time since the last occurrence of that field. When the field is seen again, the counter is set to zero.\n",
        "\n",
        "Upon initialization, this will result in datetime na's until the field is encountered. This is reset every time a new store is seen."
      ]
    },
    {
      "cell_type": "code",
      "metadata": {
        "ExecuteTime": {
          "end_time": "2017-09-09T12:33:58.033681Z",
          "start_time": "2017-09-09T12:33:58.020905Z"
        },
        "id": "A9I9Kilcc7O7"
      },
      "source": [
        "class elapsed(object):\n",
        "    def __init__(self, fld):\n",
        "        self.fld = fld\n",
        "        self.last = pd.to_datetime(np.nan)\n",
        "        self.last_store = 0\n",
        "        \n",
        "    def get(self, row):\n",
        "        if row.Store != self.last_store:\n",
        "            self.last = pd.to_datetime(np.nan)\n",
        "            self.last_store = row.Store\n",
        "        if (row[self.fld]): self.last = row.Date\n",
        "        return row.Date-self.last"
      ],
      "execution_count": 93,
      "outputs": []
    },
    {
      "cell_type": "code",
      "metadata": {
        "ExecuteTime": {
          "end_time": "2017-09-09T12:33:58.073702Z",
          "start_time": "2017-09-09T12:33:58.038183Z"
        },
        "scrolled": true,
        "id": "J0KzOqMVc7O9"
      },
      "source": [
        "df = train[columns]"
      ],
      "execution_count": 94,
      "outputs": []
    },
    {
      "cell_type": "markdown",
      "metadata": {
        "id": "kbyny4R5c7O_"
      },
      "source": [
        "And a function for applying said class across dataframe rows and adding values to a new column."
      ]
    },
    {
      "cell_type": "code",
      "metadata": {
        "ExecuteTime": {
          "end_time": "2017-09-09T12:33:58.085773Z",
          "start_time": "2017-09-09T12:33:58.078010Z"
        },
        "id": "WBYzs_qac7O_"
      },
      "source": [
        "def add_elapsed(fld, prefix):\n",
        "    sh_el = elapsed(fld)\n",
        "    df[prefix+fld] = df.apply(sh_el.get, axis=1)"
      ],
      "execution_count": 95,
      "outputs": []
    },
    {
      "cell_type": "markdown",
      "metadata": {
        "id": "W7XE-Tl4c7PC"
      },
      "source": [
        "Let's walk through an example.\n",
        "\n",
        "Say we're looking at School Holiday. We'll first sort by Store, then Date, and then call `add_elapsed('SchoolHoliday', 'After')`:\n",
        "This will generate an instance of the `elapsed` class for School Holiday:\n",
        "* Instance applied to every row of the dataframe in order of store and date\n",
        "* Will add to the dataframe the days since seeing a School Holiday\n",
        "* If we sort in the other direction, this will count the days until another promotion."
      ]
    },
    {
      "cell_type": "code",
      "metadata": {
        "ExecuteTime": {
          "end_time": "2017-09-09T12:38:56.318003Z",
          "start_time": "2017-09-09T12:33:58.089696Z"
        },
        "id": "S9NsYZemc7PD"
      },
      "source": [
        "fld = 'SchoolHoliday'\n",
        "df = df.sort_values(['Store', 'Date'])\n",
        "add_elapsed(fld, 'After')\n",
        "df = df.sort_values(['Store', 'Date'], ascending=[True, False])\n",
        "add_elapsed(fld, 'Before')"
      ],
      "execution_count": 96,
      "outputs": []
    },
    {
      "cell_type": "markdown",
      "metadata": {
        "id": "53Fg8eQtc7PH"
      },
      "source": [
        "We'll do this for two more fields."
      ]
    },
    {
      "cell_type": "code",
      "metadata": {
        "ExecuteTime": {
          "end_time": "2017-09-09T12:44:24.643414Z",
          "start_time": "2017-09-09T12:38:56.322386Z"
        },
        "id": "geraMAW5c7PI"
      },
      "source": [
        "fld = 'StateHoliday'\n",
        "df = df.sort_values(['Store', 'Date'])\n",
        "add_elapsed(fld, 'After')\n",
        "df = df.sort_values(['Store', 'Date'], ascending=[True, False])\n",
        "add_elapsed(fld, 'Before')"
      ],
      "execution_count": 97,
      "outputs": []
    },
    {
      "cell_type": "code",
      "metadata": {
        "ExecuteTime": {
          "end_time": "2017-09-09T12:50:39.561351Z",
          "start_time": "2017-09-09T12:44:24.647992Z"
        },
        "id": "gHW7lAacc7PL"
      },
      "source": [
        "fld = 'Promo'\n",
        "df = df.sort_values(['Store', 'Date'])\n",
        "add_elapsed(fld, 'After')\n",
        "df = df.sort_values(['Store', 'Date'], ascending=[True, False])\n",
        "add_elapsed(fld, 'Before')"
      ],
      "execution_count": 98,
      "outputs": []
    },
    {
      "cell_type": "markdown",
      "metadata": {
        "id": "_zoMX5E1c7PN"
      },
      "source": [
        "We're going to set the active index to Date."
      ]
    },
    {
      "cell_type": "code",
      "metadata": {
        "ExecuteTime": {
          "end_time": "2017-09-09T12:50:39.589349Z",
          "start_time": "2017-09-09T12:50:39.565636Z"
        },
        "id": "-sFHQe37c7PO"
      },
      "source": [
        "df = df.set_index(\"Date\")"
      ],
      "execution_count": 99,
      "outputs": []
    },
    {
      "cell_type": "markdown",
      "metadata": {
        "id": "FIqBXRGdc7PQ"
      },
      "source": [
        "Then set null values from elapsed field calculations to 0."
      ]
    },
    {
      "cell_type": "code",
      "metadata": {
        "ExecuteTime": {
          "end_time": "2017-09-09T12:50:39.597331Z",
          "start_time": "2017-09-09T12:50:39.593766Z"
        },
        "id": "oB1nqGUec7PQ"
      },
      "source": [
        "columns = ['SchoolHoliday', 'StateHoliday', 'Promo']"
      ],
      "execution_count": 100,
      "outputs": []
    },
    {
      "cell_type": "code",
      "metadata": {
        "ExecuteTime": {
          "end_time": "2017-09-09T12:51:34.476290Z",
          "start_time": "2017-09-09T12:50:39.601239Z"
        },
        "id": "GwrjMOoqc7PS"
      },
      "source": [
        "for o in ['Before', 'After']:\n",
        "    for p in columns:\n",
        "        a = o+p\n",
        "        df[a] = df[a].fillna(pd.Timedelta(0)).dt.days"
      ],
      "execution_count": 101,
      "outputs": []
    },
    {
      "cell_type": "markdown",
      "metadata": {
        "id": "mkU-Nji0c7PU"
      },
      "source": [
        "Next we'll demonstrate window functions in pandas to calculate rolling quantities.\n",
        "\n",
        "Here we're sorting by date (`sort_index()`) and counting the number of events of interest (`sum()`) defined in `columns` in the following week (`rolling()`), grouped by Store (`groupby()`). We do the same in the opposite direction."
      ]
    },
    {
      "cell_type": "code",
      "metadata": {
        "ExecuteTime": {
          "end_time": "2017-09-09T12:51:36.660413Z",
          "start_time": "2017-09-09T12:51:34.480574Z"
        },
        "id": "B4_2ZHiRc7PU"
      },
      "source": [
        "bwd = df[['Store']+columns].sort_index().groupby(\"Store\").rolling(7, min_periods=1).sum()"
      ],
      "execution_count": 102,
      "outputs": []
    },
    {
      "cell_type": "code",
      "metadata": {
        "ExecuteTime": {
          "end_time": "2017-09-09T12:51:38.828535Z",
          "start_time": "2017-09-09T12:51:36.664767Z"
        },
        "id": "2ADI-OxGc7PX"
      },
      "source": [
        "fwd = df[['Store']+columns].sort_index(ascending=False\n",
        "                                      ).groupby(\"Store\").rolling(7, min_periods=1).sum()"
      ],
      "execution_count": 103,
      "outputs": []
    },
    {
      "cell_type": "code",
      "metadata": {
        "id": "NPaWdlEac7PZ"
      },
      "source": [
        "# bwd"
      ],
      "execution_count": 104,
      "outputs": []
    },
    {
      "cell_type": "markdown",
      "metadata": {
        "id": "IG89Gmlnc7Pb"
      },
      "source": [
        "Next we want to drop the Store indices grouped together in the window function.\n",
        "\n",
        "Often in pandas, there is an option to do this in place. This is time and memory efficient when working with large datasets."
      ]
    },
    {
      "cell_type": "code",
      "metadata": {
        "ExecuteTime": {
          "end_time": "2017-09-09T12:51:38.848541Z",
          "start_time": "2017-09-09T12:51:38.832896Z"
        },
        "id": "Eo8FjLh7c7Pb"
      },
      "source": [
        "bwd.drop('Store',1,inplace=True)\n",
        "bwd.reset_index(inplace=True)"
      ],
      "execution_count": 105,
      "outputs": []
    },
    {
      "cell_type": "code",
      "metadata": {
        "id": "vkDx9Ew_c7Pd",
        "outputId": "66029792-07f4-4fcd-ad26-b068bf518b0e",
        "colab": {
          "base_uri": "https://localhost:8080/",
          "height": 407
        }
      },
      "source": [
        "bwd"
      ],
      "execution_count": 106,
      "outputs": [
        {
          "output_type": "execute_result",
          "data": {
            "text/html": [
              "<div>\n",
              "<style scoped>\n",
              "    .dataframe tbody tr th:only-of-type {\n",
              "        vertical-align: middle;\n",
              "    }\n",
              "\n",
              "    .dataframe tbody tr th {\n",
              "        vertical-align: top;\n",
              "    }\n",
              "\n",
              "    .dataframe thead th {\n",
              "        text-align: right;\n",
              "    }\n",
              "</style>\n",
              "<table border=\"1\" class=\"dataframe\">\n",
              "  <thead>\n",
              "    <tr style=\"text-align: right;\">\n",
              "      <th></th>\n",
              "      <th>Store</th>\n",
              "      <th>Date</th>\n",
              "      <th>SchoolHoliday</th>\n",
              "      <th>StateHoliday</th>\n",
              "      <th>Promo</th>\n",
              "    </tr>\n",
              "  </thead>\n",
              "  <tbody>\n",
              "    <tr>\n",
              "      <th>0</th>\n",
              "      <td>1</td>\n",
              "      <td>2013-01-01</td>\n",
              "      <td>1.0</td>\n",
              "      <td>1.0</td>\n",
              "      <td>0.0</td>\n",
              "    </tr>\n",
              "    <tr>\n",
              "      <th>1</th>\n",
              "      <td>1</td>\n",
              "      <td>2013-01-02</td>\n",
              "      <td>2.0</td>\n",
              "      <td>1.0</td>\n",
              "      <td>0.0</td>\n",
              "    </tr>\n",
              "    <tr>\n",
              "      <th>2</th>\n",
              "      <td>1</td>\n",
              "      <td>2013-01-03</td>\n",
              "      <td>3.0</td>\n",
              "      <td>1.0</td>\n",
              "      <td>0.0</td>\n",
              "    </tr>\n",
              "    <tr>\n",
              "      <th>3</th>\n",
              "      <td>1</td>\n",
              "      <td>2013-01-04</td>\n",
              "      <td>4.0</td>\n",
              "      <td>1.0</td>\n",
              "      <td>0.0</td>\n",
              "    </tr>\n",
              "    <tr>\n",
              "      <th>4</th>\n",
              "      <td>1</td>\n",
              "      <td>2013-01-05</td>\n",
              "      <td>5.0</td>\n",
              "      <td>1.0</td>\n",
              "      <td>0.0</td>\n",
              "    </tr>\n",
              "    <tr>\n",
              "      <th>...</th>\n",
              "      <td>...</td>\n",
              "      <td>...</td>\n",
              "      <td>...</td>\n",
              "      <td>...</td>\n",
              "      <td>...</td>\n",
              "    </tr>\n",
              "    <tr>\n",
              "      <th>1017204</th>\n",
              "      <td>1115</td>\n",
              "      <td>2015-07-27</td>\n",
              "      <td>1.0</td>\n",
              "      <td>0.0</td>\n",
              "      <td>1.0</td>\n",
              "    </tr>\n",
              "    <tr>\n",
              "      <th>1017205</th>\n",
              "      <td>1115</td>\n",
              "      <td>2015-07-28</td>\n",
              "      <td>2.0</td>\n",
              "      <td>0.0</td>\n",
              "      <td>2.0</td>\n",
              "    </tr>\n",
              "    <tr>\n",
              "      <th>1017206</th>\n",
              "      <td>1115</td>\n",
              "      <td>2015-07-29</td>\n",
              "      <td>3.0</td>\n",
              "      <td>0.0</td>\n",
              "      <td>3.0</td>\n",
              "    </tr>\n",
              "    <tr>\n",
              "      <th>1017207</th>\n",
              "      <td>1115</td>\n",
              "      <td>2015-07-30</td>\n",
              "      <td>4.0</td>\n",
              "      <td>0.0</td>\n",
              "      <td>4.0</td>\n",
              "    </tr>\n",
              "    <tr>\n",
              "      <th>1017208</th>\n",
              "      <td>1115</td>\n",
              "      <td>2015-07-31</td>\n",
              "      <td>5.0</td>\n",
              "      <td>0.0</td>\n",
              "      <td>5.0</td>\n",
              "    </tr>\n",
              "  </tbody>\n",
              "</table>\n",
              "<p>1017209 rows × 5 columns</p>\n",
              "</div>"
            ],
            "text/plain": [
              "         Store       Date  SchoolHoliday  StateHoliday  Promo\n",
              "0            1 2013-01-01            1.0           1.0    0.0\n",
              "1            1 2013-01-02            2.0           1.0    0.0\n",
              "2            1 2013-01-03            3.0           1.0    0.0\n",
              "3            1 2013-01-04            4.0           1.0    0.0\n",
              "4            1 2013-01-05            5.0           1.0    0.0\n",
              "...        ...        ...            ...           ...    ...\n",
              "1017204   1115 2015-07-27            1.0           0.0    1.0\n",
              "1017205   1115 2015-07-28            2.0           0.0    2.0\n",
              "1017206   1115 2015-07-29            3.0           0.0    3.0\n",
              "1017207   1115 2015-07-30            4.0           0.0    4.0\n",
              "1017208   1115 2015-07-31            5.0           0.0    5.0\n",
              "\n",
              "[1017209 rows x 5 columns]"
            ]
          },
          "metadata": {
            "tags": []
          },
          "execution_count": 106
        }
      ]
    },
    {
      "cell_type": "code",
      "metadata": {
        "ExecuteTime": {
          "end_time": "2017-09-09T12:51:38.868544Z",
          "start_time": "2017-09-09T12:51:38.852784Z"
        },
        "id": "NmUKnzdYc7Pg"
      },
      "source": [
        "fwd.drop('Store',1,inplace=True)\n",
        "fwd.reset_index(inplace=True)"
      ],
      "execution_count": 107,
      "outputs": []
    },
    {
      "cell_type": "code",
      "metadata": {
        "ExecuteTime": {
          "end_time": "2017-09-09T12:51:38.880520Z",
          "start_time": "2017-09-09T12:51:38.872814Z"
        },
        "id": "sE6LYu-ic7Pk"
      },
      "source": [
        "df.reset_index(inplace=True)"
      ],
      "execution_count": 108,
      "outputs": []
    },
    {
      "cell_type": "markdown",
      "metadata": {
        "id": "lXpQTv_pc7Po"
      },
      "source": [
        "Now we'll merge these values onto the df."
      ]
    },
    {
      "cell_type": "code",
      "metadata": {
        "ExecuteTime": {
          "end_time": "2017-09-09T12:51:39.280562Z",
          "start_time": "2017-09-09T12:51:38.884558Z"
        },
        "id": "j7d7fh4Bc7Po"
      },
      "source": [
        "df = df.merge(bwd, 'left', ['Date', 'Store'], suffixes=['', '_bw'])\n",
        "df = df.merge(fwd, 'left', ['Date', 'Store'], suffixes=['', '_fw'])"
      ],
      "execution_count": 109,
      "outputs": []
    },
    {
      "cell_type": "code",
      "metadata": {
        "ExecuteTime": {
          "end_time": "2017-09-09T12:51:39.336575Z",
          "start_time": "2017-09-09T12:51:39.284873Z"
        },
        "id": "MCtRr0Agc7Pq"
      },
      "source": [
        "df.drop(columns,1,inplace=True)"
      ],
      "execution_count": 110,
      "outputs": []
    },
    {
      "cell_type": "code",
      "metadata": {
        "ExecuteTime": {
          "end_time": "2017-09-09T12:51:39.360551Z",
          "start_time": "2017-09-09T12:51:39.341181Z"
        },
        "id": "P2f2rlKac7Ps",
        "outputId": "2369da45-3414-43b5-87dc-e248c5e761ed",
        "colab": {
          "base_uri": "https://localhost:8080/",
          "height": 305
        }
      },
      "source": [
        "df.head()"
      ],
      "execution_count": 111,
      "outputs": [
        {
          "output_type": "execute_result",
          "data": {
            "text/html": [
              "<div>\n",
              "<style scoped>\n",
              "    .dataframe tbody tr th:only-of-type {\n",
              "        vertical-align: middle;\n",
              "    }\n",
              "\n",
              "    .dataframe tbody tr th {\n",
              "        vertical-align: top;\n",
              "    }\n",
              "\n",
              "    .dataframe thead th {\n",
              "        text-align: right;\n",
              "    }\n",
              "</style>\n",
              "<table border=\"1\" class=\"dataframe\">\n",
              "  <thead>\n",
              "    <tr style=\"text-align: right;\">\n",
              "      <th></th>\n",
              "      <th>Date</th>\n",
              "      <th>Store</th>\n",
              "      <th>AfterSchoolHoliday</th>\n",
              "      <th>BeforeSchoolHoliday</th>\n",
              "      <th>AfterStateHoliday</th>\n",
              "      <th>BeforeStateHoliday</th>\n",
              "      <th>AfterPromo</th>\n",
              "      <th>BeforePromo</th>\n",
              "      <th>SchoolHoliday_bw</th>\n",
              "      <th>StateHoliday_bw</th>\n",
              "      <th>Promo_bw</th>\n",
              "      <th>SchoolHoliday_fw</th>\n",
              "      <th>StateHoliday_fw</th>\n",
              "      <th>Promo_fw</th>\n",
              "    </tr>\n",
              "  </thead>\n",
              "  <tbody>\n",
              "    <tr>\n",
              "      <th>0</th>\n",
              "      <td>2015-07-31</td>\n",
              "      <td>1</td>\n",
              "      <td>0</td>\n",
              "      <td>0</td>\n",
              "      <td>57</td>\n",
              "      <td>0</td>\n",
              "      <td>0</td>\n",
              "      <td>0</td>\n",
              "      <td>5.0</td>\n",
              "      <td>0.0</td>\n",
              "      <td>5.0</td>\n",
              "      <td>1.0</td>\n",
              "      <td>0.0</td>\n",
              "      <td>1.0</td>\n",
              "    </tr>\n",
              "    <tr>\n",
              "      <th>1</th>\n",
              "      <td>2015-07-30</td>\n",
              "      <td>1</td>\n",
              "      <td>0</td>\n",
              "      <td>0</td>\n",
              "      <td>56</td>\n",
              "      <td>0</td>\n",
              "      <td>0</td>\n",
              "      <td>0</td>\n",
              "      <td>4.0</td>\n",
              "      <td>0.0</td>\n",
              "      <td>4.0</td>\n",
              "      <td>2.0</td>\n",
              "      <td>0.0</td>\n",
              "      <td>2.0</td>\n",
              "    </tr>\n",
              "    <tr>\n",
              "      <th>2</th>\n",
              "      <td>2015-07-29</td>\n",
              "      <td>1</td>\n",
              "      <td>0</td>\n",
              "      <td>0</td>\n",
              "      <td>55</td>\n",
              "      <td>0</td>\n",
              "      <td>0</td>\n",
              "      <td>0</td>\n",
              "      <td>3.0</td>\n",
              "      <td>0.0</td>\n",
              "      <td>3.0</td>\n",
              "      <td>3.0</td>\n",
              "      <td>0.0</td>\n",
              "      <td>3.0</td>\n",
              "    </tr>\n",
              "    <tr>\n",
              "      <th>3</th>\n",
              "      <td>2015-07-28</td>\n",
              "      <td>1</td>\n",
              "      <td>0</td>\n",
              "      <td>0</td>\n",
              "      <td>54</td>\n",
              "      <td>0</td>\n",
              "      <td>0</td>\n",
              "      <td>0</td>\n",
              "      <td>2.0</td>\n",
              "      <td>0.0</td>\n",
              "      <td>2.0</td>\n",
              "      <td>4.0</td>\n",
              "      <td>0.0</td>\n",
              "      <td>4.0</td>\n",
              "    </tr>\n",
              "    <tr>\n",
              "      <th>4</th>\n",
              "      <td>2015-07-27</td>\n",
              "      <td>1</td>\n",
              "      <td>0</td>\n",
              "      <td>0</td>\n",
              "      <td>53</td>\n",
              "      <td>0</td>\n",
              "      <td>0</td>\n",
              "      <td>0</td>\n",
              "      <td>1.0</td>\n",
              "      <td>0.0</td>\n",
              "      <td>1.0</td>\n",
              "      <td>5.0</td>\n",
              "      <td>0.0</td>\n",
              "      <td>5.0</td>\n",
              "    </tr>\n",
              "  </tbody>\n",
              "</table>\n",
              "</div>"
            ],
            "text/plain": [
              "        Date  Store  ...  StateHoliday_fw  Promo_fw\n",
              "0 2015-07-31      1  ...              0.0       1.0\n",
              "1 2015-07-30      1  ...              0.0       2.0\n",
              "2 2015-07-29      1  ...              0.0       3.0\n",
              "3 2015-07-28      1  ...              0.0       4.0\n",
              "4 2015-07-27      1  ...              0.0       5.0\n",
              "\n",
              "[5 rows x 14 columns]"
            ]
          },
          "metadata": {
            "tags": []
          },
          "execution_count": 111
        }
      ]
    },
    {
      "cell_type": "markdown",
      "metadata": {
        "id": "2kCQsG0Fc7Pu"
      },
      "source": [
        "It's usually a good idea to back up large tables of extracted / wrangled features before you join them onto another one, that way you can go back to it easily if you need to make changes to it."
      ]
    },
    {
      "cell_type": "code",
      "metadata": {
        "ExecuteTime": {
          "end_time": "2017-09-09T12:51:54.357405Z",
          "start_time": "2017-09-09T12:51:39.364463Z"
        },
        "id": "4SVRDVzPc7Pu"
      },
      "source": [
        "df.to_csv('df.csv')"
      ],
      "execution_count": 112,
      "outputs": []
    },
    {
      "cell_type": "code",
      "metadata": {
        "ExecuteTime": {
          "end_time": "2017-09-09T12:51:55.193509Z",
          "start_time": "2017-09-09T12:51:54.361778Z"
        },
        "id": "V7KmZF0rc7Pw"
      },
      "source": [
        "df = pd.read_csv('df.csv', index_col=None)"
      ],
      "execution_count": 114,
      "outputs": []
    },
    {
      "cell_type": "code",
      "metadata": {
        "ExecuteTime": {
          "end_time": "2017-09-09T12:51:55.433461Z",
          "start_time": "2017-09-09T12:51:55.197365Z"
        },
        "id": "S5y-WV5Mc7Py"
      },
      "source": [
        "df[\"Date\"] = pd.to_datetime(df.Date)"
      ],
      "execution_count": 115,
      "outputs": []
    },
    {
      "cell_type": "code",
      "metadata": {
        "ExecuteTime": {
          "end_time": "2017-09-09T12:51:55.445447Z",
          "start_time": "2017-09-09T12:51:55.437864Z"
        },
        "id": "DK-Ii4cSc7P1",
        "outputId": "2c99e673-797b-48e0-86bc-be389766b222",
        "colab": {
          "base_uri": "https://localhost:8080/"
        }
      },
      "source": [
        "df.columns"
      ],
      "execution_count": 116,
      "outputs": [
        {
          "output_type": "execute_result",
          "data": {
            "text/plain": [
              "Index(['Unnamed: 0', 'Date', 'Store', 'AfterSchoolHoliday',\n",
              "       'BeforeSchoolHoliday', 'AfterStateHoliday', 'BeforeStateHoliday',\n",
              "       'AfterPromo', 'BeforePromo', 'SchoolHoliday_bw', 'StateHoliday_bw',\n",
              "       'Promo_bw', 'SchoolHoliday_fw', 'StateHoliday_fw', 'Promo_fw'],\n",
              "      dtype='object')"
            ]
          },
          "metadata": {
            "tags": []
          },
          "execution_count": 116
        }
      ]
    },
    {
      "cell_type": "code",
      "metadata": {
        "ExecuteTime": {
          "end_time": "2017-09-09T12:51:57.961603Z",
          "start_time": "2017-09-09T12:51:55.448758Z"
        },
        "id": "_Y3B1E7mc7P3"
      },
      "source": [
        "joined = join_df(joined, df, ['Store', 'Date'])"
      ],
      "execution_count": 117,
      "outputs": []
    },
    {
      "cell_type": "markdown",
      "metadata": {
        "id": "0yTTimj_c7P5"
      },
      "source": [
        "We'll back this up as well."
      ]
    },
    {
      "cell_type": "code",
      "metadata": {
        "ExecuteTime": {
          "end_time": "2017-09-09T12:53:29.639007Z",
          "start_time": "2017-09-09T12:51:57.966181Z"
        },
        "id": "fSm3kHZic7P5"
      },
      "source": [
        "joined.to_csv('joined.csv')"
      ],
      "execution_count": 118,
      "outputs": []
    },
    {
      "cell_type": "markdown",
      "metadata": {
        "id": "3z46tVHJc7P7"
      },
      "source": [
        "We now have our final set of engineered features."
      ]
    },
    {
      "cell_type": "code",
      "metadata": {
        "ExecuteTime": {
          "end_time": "2017-09-09T12:53:36.755403Z",
          "start_time": "2017-09-09T12:53:29.642794Z"
        },
        "scrolled": false,
        "id": "Ze_xggwLc7P7",
        "outputId": "afc862c6-063a-4fe7-fc0c-6ae4786b8d46",
        "colab": {
          "base_uri": "https://localhost:8080/"
        }
      },
      "source": [
        "joined = pd.read_csv('joined.csv', index_col=None)\n",
        "joined[\"Date\"] = pd.to_datetime(joined.Date)\n",
        "joined.columns"
      ],
      "execution_count": 120,
      "outputs": [
        {
          "output_type": "execute_result",
          "data": {
            "text/plain": [
              "Index(['Unnamed: 0', 'Store', 'DayOfWeek', 'Date', 'Sales', 'Customers',\n",
              "       'Open', 'Promo', 'StateHoliday', 'SchoolHoliday', 'Year', 'Month',\n",
              "       'Week', 'Day', 'StoreType', 'Assortment', 'CompetitionDistance',\n",
              "       'CompetitionOpenSinceMonth', 'CompetitionOpenSinceYear', 'Promo2',\n",
              "       'Promo2SinceWeek', 'Promo2SinceYear', 'PromoInterval', 'State', 'file',\n",
              "       'week', 'trend', 'Date_y', 'Month_y', 'Day_y', 'file_DE', 'week_DE',\n",
              "       'trend_DE', 'Date_DE', 'State_DE', 'Month_DE', 'Day_DE', 'file_y',\n",
              "       'Max_TemperatureC', 'Mean_TemperatureC', 'Min_TemperatureC',\n",
              "       'Dew_PointC', 'MeanDew_PointC', 'Min_DewpointC', 'Max_Humidity',\n",
              "       'Mean_Humidity', 'Min_Humidity', 'Max_Sea_Level_PressurehPa',\n",
              "       'Mean_Sea_Level_PressurehPa', 'Min_Sea_Level_PressurehPa',\n",
              "       'Max_VisibilityKm', 'Mean_VisibilityKm', 'Min_VisibilitykM',\n",
              "       'Max_Wind_SpeedKm_h', 'Mean_Wind_SpeedKm_h', 'Max_Gust_SpeedKm_h',\n",
              "       'Precipitationmm', 'CloudCover', 'Events', 'WindDirDegrees',\n",
              "       'StateName', 'Year_y', 'Month_y.1', 'Week_y', 'Day_y.1',\n",
              "       'CompetitionOpenSince', 'CompetitionDaysOpen', 'CompetitionMonthsOpen',\n",
              "       'Promo2Since', 'Promo2Days', 'Promo2Weeks', 'Unnamed: 0.1',\n",
              "       'AfterSchoolHoliday', 'BeforeSchoolHoliday', 'AfterStateHoliday',\n",
              "       'BeforeStateHoliday', 'AfterPromo', 'BeforePromo', 'SchoolHoliday_bw',\n",
              "       'StateHoliday_bw', 'Promo_bw', 'SchoolHoliday_fw', 'StateHoliday_fw',\n",
              "       'Promo_fw'],\n",
              "      dtype='object')"
            ]
          },
          "metadata": {
            "tags": []
          },
          "execution_count": 120
        }
      ]
    },
    {
      "cell_type": "markdown",
      "metadata": {
        "id": "ltybJhP6c7P8"
      },
      "source": [
        "While these steps were explicitly outlined in the paper, these are all fairly typical feature engineering steps for dealing with time series data and are practical in any similar setting."
      ]
    },
    {
      "cell_type": "markdown",
      "metadata": {
        "id": "XYH19dc5c7P9"
      },
      "source": [
        "## Create features"
      ]
    },
    {
      "cell_type": "markdown",
      "metadata": {
        "id": "9qYwMr2Hc7P9"
      },
      "source": [
        "Now that we've engineered all our features, we need to convert to input compatible with a neural network.\n",
        "\n",
        "This includes converting categorical variables into contiguous integers or one-hot encodings, normalizing continuous features to standard normal, etc..."
      ]
    },
    {
      "cell_type": "code",
      "metadata": {
        "ExecuteTime": {
          "end_time": "2017-09-09T12:53:36.771411Z",
          "start_time": "2017-09-09T12:53:36.759311Z"
        },
        "scrolled": false,
        "id": "Qpx84Z-kc7P9"
      },
      "source": [
        "from sklearn_pandas import DataFrameMapper\n",
        "from sklearn.preprocessing import LabelEncoder, StandardScaler\n",
        "from sklearn.impute import SimpleImputer as Imputer"
      ],
      "execution_count": 123,
      "outputs": []
    },
    {
      "cell_type": "markdown",
      "metadata": {
        "id": "wMRvWUJmc7P-"
      },
      "source": [
        "This dictionary maps categories to embedding dimensionality. In generally, categories we might expect to be conceptually more complex have larger dimension."
      ]
    },
    {
      "cell_type": "code",
      "metadata": {
        "ExecuteTime": {
          "end_time": "2017-09-09T12:53:36.783653Z",
          "start_time": "2017-09-09T12:53:36.775980Z"
        },
        "id": "Sr2YbsKKc7P_"
      },
      "source": [
        "cat_var_dict = {'Store': 50, 'DayOfWeek': 6, 'Year': 2, 'Month': 6,\n",
        "'Day': 10, 'StateHoliday': 3, 'CompetitionMonthsOpen': 2,\n",
        "'Promo2Weeks': 1, 'StoreType': 2, 'Assortment': 3, 'PromoInterval': 3,\n",
        "'CompetitionOpenSinceYear': 4, 'Promo2SinceYear': 4, 'State': 6,\n",
        "'Week': 2, 'Events': 4, 'Promo_fw': 1,\n",
        "'Promo_bw': 1, 'StateHoliday_fw': 1,\n",
        "'StateHoliday_bw': 1, 'SchoolHoliday_fw': 1,\n",
        "'SchoolHoliday_bw': 1}"
      ],
      "execution_count": 124,
      "outputs": []
    },
    {
      "cell_type": "markdown",
      "metadata": {
        "id": "X_3XwHEnc7QA"
      },
      "source": [
        "Name categorical variables"
      ]
    },
    {
      "cell_type": "code",
      "metadata": {
        "ExecuteTime": {
          "end_time": "2017-09-09T12:53:36.791955Z",
          "start_time": "2017-09-09T12:53:36.787912Z"
        },
        "id": "QW5wXKUoc7QA"
      },
      "source": [
        "cat_vars = [o[0] for o in \n",
        "            sorted(cat_var_dict.items(), key=operator.itemgetter(1), reverse=True)]"
      ],
      "execution_count": 125,
      "outputs": []
    },
    {
      "cell_type": "markdown",
      "metadata": {
        "id": "FHgdDiUyc7QB"
      },
      "source": [
        "Likewise for continuous"
      ]
    },
    {
      "cell_type": "code",
      "metadata": {
        "ExecuteTime": {
          "end_time": "2017-09-09T12:53:36.803411Z",
          "start_time": "2017-09-09T12:53:36.797476Z"
        },
        "id": "lrGooWayc7QC"
      },
      "source": [
        "# mean/max wind; min temp; cloud; min/mean humid; \n",
        "contin_vars = ['CompetitionDistance', \n",
        "   'Max_TemperatureC', 'Mean_TemperatureC', 'Min_TemperatureC',\n",
        "   'Max_Humidity', 'Mean_Humidity', 'Min_Humidity', 'Max_Wind_SpeedKm_h', \n",
        "   'Mean_Wind_SpeedKm_h', 'CloudCover', 'trend', 'trend_DE',\n",
        "   'AfterStateHoliday', 'BeforeStateHoliday', 'Promo', 'SchoolHoliday']"
      ],
      "execution_count": 126,
      "outputs": []
    },
    {
      "cell_type": "markdown",
      "metadata": {
        "id": "F5BsJdBAc7QF"
      },
      "source": [
        "Replace nulls w/ 0 for continuous, \"\" for categorical."
      ]
    },
    {
      "cell_type": "code",
      "metadata": {
        "ExecuteTime": {
          "end_time": "2017-09-09T12:53:40.183627Z",
          "start_time": "2017-09-09T12:53:36.807598Z"
        },
        "id": "LCMF6st0c7QF"
      },
      "source": [
        "for v in contin_vars: joined.loc[joined[v].isnull(), v] = 0\n",
        "for v in cat_vars: joined.loc[joined[v].isnull(), v] = \"\""
      ],
      "execution_count": 127,
      "outputs": []
    },
    {
      "cell_type": "markdown",
      "metadata": {
        "id": "AikBLXA0c7QH"
      },
      "source": [
        "Here we create a list of tuples, each containing a variable and an instance of a transformer for that variable.\n",
        "\n",
        "For categoricals, we use a label encoder that maps categories to continuous integers. For continuous variables, we standardize them."
      ]
    },
    {
      "cell_type": "code",
      "metadata": {
        "ExecuteTime": {
          "end_time": "2017-09-09T12:53:40.195634Z",
          "start_time": "2017-09-09T12:53:40.188549Z"
        },
        "id": "suJudKHYc7QH"
      },
      "source": [
        "cat_maps = [(o, LabelEncoder()) for o in cat_vars]\n",
        "contin_maps = [([o], StandardScaler()) for o in contin_vars]"
      ],
      "execution_count": 128,
      "outputs": []
    },
    {
      "cell_type": "markdown",
      "metadata": {
        "id": "4QagM1Jgc7QI"
      },
      "source": [
        "The same instances need to be used for the test set as well, so values are mapped/standardized appropriately.\n",
        "\n",
        "DataFrame mapper will keep track of these variable-instance mappings."
      ]
    },
    {
      "cell_type": "code",
      "metadata": {
        "ExecuteTime": {
          "end_time": "2017-09-09T12:53:44.299867Z",
          "start_time": "2017-09-09T12:53:40.200459Z"
        },
        "id": "hTzBGQJmc7QJ",
        "outputId": "f5a5db9f-aa87-457e-de7c-710be6c27ac1",
        "colab": {
          "base_uri": "https://localhost:8080/"
        }
      },
      "source": [
        "cat_mapper = DataFrameMapper(cat_maps)\n",
        "cat_map_fit = cat_mapper.fit(joined)\n",
        "cat_cols = len(cat_map_fit.features)\n",
        "cat_cols"
      ],
      "execution_count": 129,
      "outputs": [
        {
          "output_type": "execute_result",
          "data": {
            "text/plain": [
              "22"
            ]
          },
          "metadata": {
            "tags": []
          },
          "execution_count": 129
        }
      ]
    },
    {
      "cell_type": "code",
      "metadata": {
        "ExecuteTime": {
          "end_time": "2017-09-09T12:53:44.427873Z",
          "start_time": "2017-09-09T12:53:44.303777Z"
        },
        "id": "6Eqe2WeWc7QK",
        "outputId": "a5bb1c97-3b37-4e23-90c2-1e8853d30641",
        "colab": {
          "base_uri": "https://localhost:8080/"
        }
      },
      "source": [
        "contin_mapper = DataFrameMapper(contin_maps)\n",
        "contin_map_fit = contin_mapper.fit(joined)\n",
        "contin_cols = len(contin_map_fit.features)\n",
        "contin_cols"
      ],
      "execution_count": 130,
      "outputs": [
        {
          "output_type": "execute_result",
          "data": {
            "text/plain": [
              "16"
            ]
          },
          "metadata": {
            "tags": []
          },
          "execution_count": 130
        }
      ]
    },
    {
      "cell_type": "markdown",
      "metadata": {
        "id": "4fV_-figc7QL"
      },
      "source": [
        "Example of first five rows of zeroth column being transformed appropriately."
      ]
    },
    {
      "cell_type": "code",
      "metadata": {
        "ExecuteTime": {
          "end_time": "2017-09-09T12:53:49.896223Z",
          "start_time": "2017-09-09T12:53:44.431083Z"
        },
        "id": "KT2BA1N9c7QM",
        "outputId": "d2d6666e-ccc1-446c-8413-13db57e98b27",
        "colab": {
          "base_uri": "https://localhost:8080/"
        }
      },
      "source": [
        "cat_map_fit.transform(joined)[0,:5], contin_map_fit.transform(joined)[0,:5]"
      ],
      "execution_count": 131,
      "outputs": [
        {
          "output_type": "execute_result",
          "data": {
            "text/plain": [
              "(array([ 0, 30,  4,  6,  4]),\n",
              " array([-0.53772351,  1.02444552,  0.81863226,  0.32504749,  0.61112004]))"
            ]
          },
          "metadata": {
            "tags": []
          },
          "execution_count": 131
        }
      ]
    },
    {
      "cell_type": "markdown",
      "metadata": {
        "id": "MTIDz7Eyc7QN"
      },
      "source": [
        "We can also pickle these mappings, which is great for portability!"
      ]
    },
    {
      "cell_type": "code",
      "metadata": {
        "ExecuteTime": {
          "end_time": "2017-09-09T12:53:49.912227Z",
          "start_time": "2017-09-09T12:53:49.900164Z"
        },
        "id": "SXR9ZQT6c7QN"
      },
      "source": [
        "pickle.dump(contin_map_fit, open('contin_maps.pickle', 'wb'))\n",
        "pickle.dump(cat_map_fit, open('cat_maps.pickle', 'wb'))"
      ],
      "execution_count": 132,
      "outputs": []
    },
    {
      "cell_type": "code",
      "metadata": {
        "ExecuteTime": {
          "end_time": "2017-09-09T12:53:49.924212Z",
          "start_time": "2017-09-09T12:53:49.916517Z"
        },
        "id": "HUl1h7rCc7QO",
        "outputId": "470900f0-6003-46f0-a2bd-4f6c24e072e0",
        "colab": {
          "base_uri": "https://localhost:8080/"
        }
      },
      "source": [
        "[len(o[1].classes_) for o in cat_map_fit.features]"
      ],
      "execution_count": 133,
      "outputs": [
        {
          "output_type": "execute_result",
          "data": {
            "text/plain": [
              "[1115, 31, 7, 12, 12, 23, 8, 22, 2, 3, 4, 3, 25, 4, 52, 26, 6, 6, 3, 3, 8, 8]"
            ]
          },
          "metadata": {
            "tags": []
          },
          "execution_count": 133
        }
      ]
    },
    {
      "cell_type": "markdown",
      "metadata": {
        "id": "7_ocf38ec7QQ"
      },
      "source": [
        "## Sample data"
      ]
    },
    {
      "cell_type": "markdown",
      "metadata": {
        "id": "4dp9PagBc7QQ"
      },
      "source": [
        "Next, the authors removed all instances where the store had zero sale / was closed."
      ]
    },
    {
      "cell_type": "code",
      "metadata": {
        "ExecuteTime": {
          "end_time": "2017-09-09T12:53:50.152274Z",
          "start_time": "2017-09-09T12:53:49.928389Z"
        },
        "id": "TnyAoZBLc7QQ"
      },
      "source": [
        "joined_sales = joined[joined.Sales!=0]\n",
        "n = len(joined_sales)"
      ],
      "execution_count": 134,
      "outputs": []
    },
    {
      "cell_type": "markdown",
      "metadata": {
        "id": "7Oj3qsKoc7QT"
      },
      "source": [
        "We speculate that this may have cost them a higher standing in the competition. One reason this may be the case is that a little EDA reveals that there are often periods where stores are closed, typically for refurbishment. Before and after these periods, there are naturally spikes in sales that one might expect. Be ommitting this data from their training, the authors gave up the ability to leverage information about these periods to predict this otherwise volatile behavior."
      ]
    },
    {
      "cell_type": "code",
      "metadata": {
        "ExecuteTime": {
          "end_time": "2017-09-09T12:53:50.168232Z",
          "start_time": "2017-09-09T12:53:50.160980Z"
        },
        "id": "cepwHh2Vc7QT",
        "outputId": "a11ab39e-2b58-412d-d3ea-4ac1093411d2",
        "colab": {
          "base_uri": "https://localhost:8080/"
        }
      },
      "source": [
        "n"
      ],
      "execution_count": 135,
      "outputs": [
        {
          "output_type": "execute_result",
          "data": {
            "text/plain": [
              "844338"
            ]
          },
          "metadata": {
            "tags": []
          },
          "execution_count": 135
        }
      ]
    },
    {
      "cell_type": "markdown",
      "metadata": {
        "id": "60zAVI0Ec7QW"
      },
      "source": [
        "We're going to run on a sample."
      ]
    },
    {
      "cell_type": "code",
      "metadata": {
        "ExecuteTime": {
          "end_time": "2017-09-09T12:53:50.272249Z",
          "start_time": "2017-09-09T12:53:50.171255Z"
        },
        "id": "PwAltz-0c7QW"
      },
      "source": [
        "samp_size = 100000\n",
        "np.random.seed(42)\n",
        "idxs = sorted(np.random.choice(n, samp_size, replace=False))"
      ],
      "execution_count": 136,
      "outputs": []
    },
    {
      "cell_type": "code",
      "metadata": {
        "ExecuteTime": {
          "end_time": "2017-09-09T12:53:50.340262Z",
          "start_time": "2017-09-09T12:53:50.276883Z"
        },
        "id": "XJNGxLOFc7QY"
      },
      "source": [
        "joined_samp = joined_sales.iloc[idxs].set_index(\"Date\")"
      ],
      "execution_count": 137,
      "outputs": []
    },
    {
      "cell_type": "code",
      "metadata": {
        "ExecuteTime": {
          "end_time": "2017-09-09T12:53:50.476312Z",
          "start_time": "2017-09-09T12:53:50.344532Z"
        },
        "id": "enjC0oyic7QZ"
      },
      "source": [
        "samp_size = n\n",
        "joined_samp = joined_sales.set_index(\"Date\")"
      ],
      "execution_count": 138,
      "outputs": []
    },
    {
      "cell_type": "markdown",
      "metadata": {
        "id": "qpixV8Dlc7Qa"
      },
      "source": [
        "In time series data, cross-validation is not random. Instead, our holdout data is always the most recent data, as it would be in real application."
      ]
    },
    {
      "cell_type": "markdown",
      "metadata": {
        "id": "ex7KjBDwc7Qb"
      },
      "source": [
        "We've taken the last 10% as our validation set."
      ]
    },
    {
      "cell_type": "code",
      "metadata": {
        "ExecuteTime": {
          "end_time": "2017-09-09T12:53:50.484290Z",
          "start_time": "2017-09-09T12:53:50.480594Z"
        },
        "id": "sxa7IscRc7Qb"
      },
      "source": [
        "train_ratio = 0.9\n",
        "train_size = int(samp_size * train_ratio)"
      ],
      "execution_count": 139,
      "outputs": []
    },
    {
      "cell_type": "code",
      "metadata": {
        "ExecuteTime": {
          "end_time": "2017-09-09T12:53:50.496245Z",
          "start_time": "2017-09-09T12:53:50.487720Z"
        },
        "id": "2IaDZAFPc7Qc",
        "outputId": "f033e6cf-7881-45c1-8cf8-284497fa6f00",
        "colab": {
          "base_uri": "https://localhost:8080/"
        }
      },
      "source": [
        "train_size"
      ],
      "execution_count": 140,
      "outputs": [
        {
          "output_type": "execute_result",
          "data": {
            "text/plain": [
              "759904"
            ]
          },
          "metadata": {
            "tags": []
          },
          "execution_count": 140
        }
      ]
    },
    {
      "cell_type": "code",
      "metadata": {
        "ExecuteTime": {
          "end_time": "2017-09-09T12:53:50.508272Z",
          "start_time": "2017-09-09T12:53:50.500196Z"
        },
        "id": "JfcLyOakc7Qd",
        "outputId": "2819e52b-bb8d-4c47-bcb7-c74226c0e30d",
        "colab": {
          "base_uri": "https://localhost:8080/"
        }
      },
      "source": [
        "joined_valid = joined_samp[train_size:]\n",
        "joined_train = joined_samp[:train_size]\n",
        "len(joined_valid), len(joined_train)"
      ],
      "execution_count": 141,
      "outputs": [
        {
          "output_type": "execute_result",
          "data": {
            "text/plain": [
              "(84434, 759904)"
            ]
          },
          "metadata": {
            "tags": []
          },
          "execution_count": 141
        }
      ]
    },
    {
      "cell_type": "markdown",
      "metadata": {
        "id": "eXXDzrZ4c7Qf"
      },
      "source": [
        "Here's a preprocessor for our categoricals using our instance mapper."
      ]
    },
    {
      "cell_type": "code",
      "metadata": {
        "ExecuteTime": {
          "end_time": "2017-09-09T12:53:50.516263Z",
          "start_time": "2017-09-09T12:53:50.511228Z"
        },
        "id": "xUb6bTYlc7Qf"
      },
      "source": [
        "def cat_preproc(dat):\n",
        "    return cat_map_fit.transform(dat).astype(np.int64)"
      ],
      "execution_count": 142,
      "outputs": []
    },
    {
      "cell_type": "code",
      "metadata": {
        "ExecuteTime": {
          "end_time": "2017-09-09T12:53:54.700529Z",
          "start_time": "2017-09-09T12:53:50.518755Z"
        },
        "id": "p8P1hRa1c7Qg"
      },
      "source": [
        "cat_map_train = cat_preproc(joined_train)\n",
        "cat_map_valid = cat_preproc(joined_valid)"
      ],
      "execution_count": 143,
      "outputs": []
    },
    {
      "cell_type": "markdown",
      "metadata": {
        "id": "ZtkpIe-Fc7Qh"
      },
      "source": [
        "Same for continuous."
      ]
    },
    {
      "cell_type": "code",
      "metadata": {
        "ExecuteTime": {
          "end_time": "2017-09-09T12:53:54.712514Z",
          "start_time": "2017-09-09T12:53:54.704867Z"
        },
        "id": "AjyzVGmTc7Qi"
      },
      "source": [
        "def contin_preproc(dat):\n",
        "    return contin_map_fit.transform(dat).astype(np.float32)"
      ],
      "execution_count": 144,
      "outputs": []
    },
    {
      "cell_type": "code",
      "metadata": {
        "ExecuteTime": {
          "end_time": "2017-09-09T12:53:54.940543Z",
          "start_time": "2017-09-09T12:53:54.716615Z"
        },
        "id": "zOYD-Dvhc7Qj"
      },
      "source": [
        "contin_map_train = contin_preproc(joined_train)\n",
        "contin_map_valid = contin_preproc(joined_valid)"
      ],
      "execution_count": 145,
      "outputs": []
    },
    {
      "cell_type": "markdown",
      "metadata": {
        "id": "ZdrF7JhTc7Qk"
      },
      "source": [
        "Grab our targets."
      ]
    },
    {
      "cell_type": "code",
      "metadata": {
        "ExecuteTime": {
          "end_time": "2017-09-09T12:53:54.952549Z",
          "start_time": "2017-09-09T12:53:54.945841Z"
        },
        "id": "rGFGu5Uhc7Qk"
      },
      "source": [
        "y_train_orig = joined_train.Sales\n",
        "y_valid_orig = joined_valid.Sales"
      ],
      "execution_count": 146,
      "outputs": []
    },
    {
      "cell_type": "markdown",
      "metadata": {
        "id": "roDEPWu2c7Qn"
      },
      "source": [
        "Finally, the authors modified the target values by applying a logarithmic transformation and normalizing to unit scale by dividing by the maximum log value.\n",
        "\n",
        "Log transformations are used on this type of data frequently to attain a nicer shape. \n",
        "\n",
        "Further by scaling to the unit interval we can now use a sigmoid output in our neural network. Then we can multiply by the maximum log value to get the original log value and transform back."
      ]
    },
    {
      "cell_type": "code",
      "metadata": {
        "ExecuteTime": {
          "end_time": "2017-09-09T12:53:55.016541Z",
          "start_time": "2017-09-09T12:53:54.957108Z"
        },
        "id": "e9AH_wyxc7Qn"
      },
      "source": [
        "max_log_y = np.max(np.log(joined_samp.Sales))\n",
        "y_train = np.log(y_train_orig)/max_log_y\n",
        "y_valid = np.log(y_valid_orig)/max_log_y"
      ],
      "execution_count": 147,
      "outputs": []
    },
    {
      "cell_type": "markdown",
      "metadata": {
        "id": "dNqh8DP6c7Qp"
      },
      "source": [
        "Note: Some testing shows this doesn't make a big difference."
      ]
    },
    {
      "cell_type": "markdown",
      "metadata": {
        "id": "knFeIx5Fc7Qp"
      },
      "source": [
        "Root-mean-squared percent error is the metric Kaggle used for this competition."
      ]
    },
    {
      "cell_type": "markdown",
      "metadata": {
        "id": "Fe8MTKJnc7Qp"
      },
      "source": [
        "These undo the target transformations."
      ]
    },
    {
      "cell_type": "markdown",
      "metadata": {
        "id": "yl8zqWC5c7Qp"
      },
      "source": [
        "## Create models"
      ]
    },
    {
      "cell_type": "markdown",
      "metadata": {
        "id": "CMSl30ysc7Qq"
      },
      "source": [
        "Now we're ready to put together our models."
      ]
    },
    {
      "cell_type": "code",
      "metadata": {
        "ExecuteTime": {
          "end_time": "2017-09-09T12:53:55.024522Z",
          "start_time": "2017-09-09T12:53:55.020826Z"
        },
        "id": "l5dlLQDIc7Qq"
      },
      "source": [
        "def split_cols(arr): return np.hsplit(arr,arr.shape[1])"
      ],
      "execution_count": 148,
      "outputs": []
    },
    {
      "cell_type": "code",
      "metadata": {
        "ExecuteTime": {
          "end_time": "2017-09-09T12:53:55.032524Z",
          "start_time": "2017-09-09T12:53:55.028651Z"
        },
        "id": "qRF91yo_c7Qs"
      },
      "source": [
        "map_train = split_cols(cat_map_train) + [contin_map_train]\n",
        "map_valid = split_cols(cat_map_valid) + [contin_map_valid]"
      ],
      "execution_count": 149,
      "outputs": []
    },
    {
      "cell_type": "markdown",
      "metadata": {
        "id": "sr7SPMofc7Qt"
      },
      "source": [
        "Helper function for getting categorical name and dim."
      ]
    },
    {
      "cell_type": "code",
      "metadata": {
        "ExecuteTime": {
          "end_time": "2017-09-09T12:53:55.040525Z",
          "start_time": "2017-09-09T12:53:55.036612Z"
        },
        "scrolled": true,
        "id": "IqerqYpPc7Qu"
      },
      "source": [
        "def cat_map_info(feat): return feat[0], len(feat[1].classes_)"
      ],
      "execution_count": 151,
      "outputs": []
    },
    {
      "cell_type": "markdown",
      "metadata": {
        "id": "mhJoquFnc7Qv"
      },
      "source": [
        "For example the dimension of the feature `Day` is 31: "
      ]
    },
    {
      "cell_type": "code",
      "metadata": {
        "ExecuteTime": {
          "end_time": "2017-09-09T12:53:55.056542Z",
          "start_time": "2017-09-09T12:53:55.043506Z"
        },
        "id": "qDVvf_Kcc7Qv",
        "outputId": "c1c210d8-5d10-471b-ff61-ed3376df1b50",
        "colab": {
          "base_uri": "https://localhost:8080/"
        }
      },
      "source": [
        "cat_map_info(cat_map_fit.features[1])"
      ],
      "execution_count": 152,
      "outputs": [
        {
          "output_type": "execute_result",
          "data": {
            "text/plain": [
              "('Day', 31)"
            ]
          },
          "metadata": {
            "tags": []
          },
          "execution_count": 152
        }
      ]
    },
    {
      "cell_type": "code",
      "metadata": {
        "ExecuteTime": {
          "end_time": "2017-09-09T12:53:55.064684Z",
          "start_time": "2017-09-09T12:53:55.058976Z"
        },
        "id": "SvZ1d2tQc7Qx"
      },
      "source": [
        "def my_init(scale):\n",
        "    return lambda shape, name=None: initializations.uniform(shape, scale=scale, name=name)"
      ],
      "execution_count": 153,
      "outputs": []
    },
    {
      "cell_type": "code",
      "metadata": {
        "ExecuteTime": {
          "end_time": "2017-09-09T12:53:55.072527Z",
          "start_time": "2017-09-09T12:53:55.067237Z"
        },
        "id": "Q0x_erXNc7Qy"
      },
      "source": [
        "def emb_init(shape, name=None): \n",
        "    return initializations.uniform()"
      ],
      "execution_count": 154,
      "outputs": []
    },
    {
      "cell_type": "markdown",
      "metadata": {
        "id": "odwu_smSc7Qz"
      },
      "source": [
        "Helper function for constructing embeddings.\n",
        "\n",
        "Also, note we're flattening the embedding. Embeddings in Keras come out as an element of a sequence like we might use in a sequence of words; here we just want to concatenate them so we flatten the 1-vector sequence into a vector."
      ]
    },
    {
      "cell_type": "code",
      "metadata": {
        "ExecuteTime": {
          "end_time": "2017-09-09T12:53:55.084532Z",
          "start_time": "2017-09-09T12:53:55.074923Z"
        },
        "id": "sS417EDEc7Qz"
      },
      "source": [
        "def get_emb(feat):\n",
        "    name, c = cat_map_info(feat)\n",
        "    c2 = (c+1)//2\n",
        "    if c2>50: c2=50\n",
        "    inp = Input((1,), dtype='int64', name=name+'_in')\n",
        "    u = Flatten(name=name+'_flt')(Embedding(c, c2, input_length=1)(inp))\n",
        "    return inp,u"
      ],
      "execution_count": 155,
      "outputs": []
    },
    {
      "cell_type": "markdown",
      "metadata": {
        "id": "pGHQIti1c7Q0"
      },
      "source": [
        "Helper function for continuous inputs."
      ]
    },
    {
      "cell_type": "code",
      "metadata": {
        "ExecuteTime": {
          "end_time": "2017-09-09T12:53:55.096565Z",
          "start_time": "2017-09-09T12:53:55.088961Z"
        },
        "id": "e148wjhxc7Q0"
      },
      "source": [
        "def get_contin(feat):\n",
        "    name = feat[0][0]\n",
        "    inp = Input((1,), name=name+'_in')\n",
        "    return inp, Dense(1, name=name+'_d', init=my_init(1.))(inp)"
      ],
      "execution_count": 156,
      "outputs": []
    },
    {
      "cell_type": "markdown",
      "metadata": {
        "id": "1ydZZbQYc7Q2"
      },
      "source": [
        "Let's build them."
      ]
    },
    {
      "cell_type": "code",
      "metadata": {
        "id": "AzAKSJHmc7Q2"
      },
      "source": [
        "from keras.layers import Input, Dense, Flatten, Embedding, merge, Dropout\n",
        "from keras import initializers as initializations\n",
        "from keras.models import Model"
      ],
      "execution_count": 157,
      "outputs": []
    },
    {
      "cell_type": "code",
      "metadata": {
        "ExecuteTime": {
          "end_time": "2017-09-09T12:53:55.128559Z",
          "start_time": "2017-09-09T12:53:55.100545Z"
        },
        "collapsed": true,
        "id": "xihPWnT8c7Q3"
      },
      "source": [
        "contin_inp = Input((contin_cols,), name='contin')\n",
        "contin_out = Dense(contin_cols*10, activation='relu', name='contin_d')(contin_inp)"
      ],
      "execution_count": 158,
      "outputs": []
    },
    {
      "cell_type": "markdown",
      "metadata": {
        "id": "TVEIXdY5c7Q4"
      },
      "source": [
        "Now we can put them together. Given the inputs, continuous and categorical embeddings, we're going to concatenate all of them.\n",
        "\n",
        "Next, we're going to pass through some dropout, then two dense layers w/ ReLU activations, then dropout again, then the sigmoid activation we mentioned earlier."
      ]
    },
    {
      "cell_type": "code",
      "metadata": {
        "ExecuteTime": {
          "end_time": "2017-09-09T12:53:55.136533Z",
          "start_time": "2017-09-09T12:53:55.132852Z"
        },
        "id": "qjiTFe6Cc7Q5"
      },
      "source": [
        "def root_mean_squared_error(y_true, y_pred):\n",
        "    return K.sqrt(K.mean(K.square(y_pred - y_true), axis=-1))"
      ],
      "execution_count": 159,
      "outputs": []
    },
    {
      "cell_type": "code",
      "metadata": {
        "id": "Cewwqo38c7Q6",
        "outputId": "061ddba7-5f28-4f0e-a3fb-61a128007c69",
        "colab": {
          "base_uri": "https://localhost:8080/"
        }
      },
      "source": [
        "cat_map_fit.features"
      ],
      "execution_count": 160,
      "outputs": [
        {
          "output_type": "execute_result",
          "data": {
            "text/plain": [
              "[('Store', LabelEncoder()),\n",
              " ('Day', LabelEncoder()),\n",
              " ('DayOfWeek', LabelEncoder()),\n",
              " ('Month', LabelEncoder()),\n",
              " ('State', LabelEncoder()),\n",
              " ('CompetitionOpenSinceYear', LabelEncoder()),\n",
              " ('Promo2SinceYear', LabelEncoder()),\n",
              " ('Events', LabelEncoder()),\n",
              " ('StateHoliday', LabelEncoder()),\n",
              " ('Assortment', LabelEncoder()),\n",
              " ('PromoInterval', LabelEncoder()),\n",
              " ('Year', LabelEncoder()),\n",
              " ('CompetitionMonthsOpen', LabelEncoder()),\n",
              " ('StoreType', LabelEncoder()),\n",
              " ('Week', LabelEncoder()),\n",
              " ('Promo2Weeks', LabelEncoder()),\n",
              " ('Promo_fw', LabelEncoder()),\n",
              " ('Promo_bw', LabelEncoder()),\n",
              " ('StateHoliday_fw', LabelEncoder()),\n",
              " ('StateHoliday_bw', LabelEncoder()),\n",
              " ('SchoolHoliday_fw', LabelEncoder()),\n",
              " ('SchoolHoliday_bw', LabelEncoder())]"
            ]
          },
          "metadata": {
            "tags": []
          },
          "execution_count": 160
        }
      ]
    },
    {
      "cell_type": "code",
      "metadata": {
        "ExecuteTime": {
          "end_time": "2017-09-09T12:53:55.416551Z",
          "start_time": "2017-09-09T12:53:55.141454Z"
        },
        "collapsed": true,
        "id": "Fzzb9Senc7Q-"
      },
      "source": [
        "embs = [get_emb(feat) for feat in cat_map_fit.features]\n",
        "x = merge.Concatenate()([emb for inp,emb in embs] + [contin_out])\n",
        "x = Dropout(0.02)(x)\n",
        "x = Dense(1000, activation='relu', kernel_initializer='uniform')(x)\n",
        "x = Dense(500, activation='relu', kernel_initializer='uniform')(x)\n",
        "x = Dropout(0.2)(x)\n",
        "x = Dense(1, activation='sigmoid')(x)\n",
        "\n",
        "model = Model([inp for inp,emb in embs] + [contin_inp], x)\n",
        "# model.compile(optimizer = \"adam\", loss = 'mean_squared_error')\n",
        "model.compile(optimizer = \"adam\", loss = 'mean_absolute_error')"
      ],
      "execution_count": 161,
      "outputs": []
    },
    {
      "cell_type": "code",
      "metadata": {
        "id": "LWaDh7Kcc7RA",
        "outputId": "199168af-5254-4543-a691-5d29f904d276",
        "colab": {
          "base_uri": "https://localhost:8080/"
        }
      },
      "source": [
        "model.summary()"
      ],
      "execution_count": 162,
      "outputs": [
        {
          "output_type": "stream",
          "text": [
            "Model: \"functional_1\"\n",
            "__________________________________________________________________________________________________\n",
            "Layer (type)                    Output Shape         Param #     Connected to                     \n",
            "==================================================================================================\n",
            "Store_in (InputLayer)           [(None, 1)]          0                                            \n",
            "__________________________________________________________________________________________________\n",
            "Day_in (InputLayer)             [(None, 1)]          0                                            \n",
            "__________________________________________________________________________________________________\n",
            "DayOfWeek_in (InputLayer)       [(None, 1)]          0                                            \n",
            "__________________________________________________________________________________________________\n",
            "Month_in (InputLayer)           [(None, 1)]          0                                            \n",
            "__________________________________________________________________________________________________\n",
            "State_in (InputLayer)           [(None, 1)]          0                                            \n",
            "__________________________________________________________________________________________________\n",
            "CompetitionOpenSinceYear_in (In [(None, 1)]          0                                            \n",
            "__________________________________________________________________________________________________\n",
            "Promo2SinceYear_in (InputLayer) [(None, 1)]          0                                            \n",
            "__________________________________________________________________________________________________\n",
            "Events_in (InputLayer)          [(None, 1)]          0                                            \n",
            "__________________________________________________________________________________________________\n",
            "StateHoliday_in (InputLayer)    [(None, 1)]          0                                            \n",
            "__________________________________________________________________________________________________\n",
            "Assortment_in (InputLayer)      [(None, 1)]          0                                            \n",
            "__________________________________________________________________________________________________\n",
            "PromoInterval_in (InputLayer)   [(None, 1)]          0                                            \n",
            "__________________________________________________________________________________________________\n",
            "Year_in (InputLayer)            [(None, 1)]          0                                            \n",
            "__________________________________________________________________________________________________\n",
            "CompetitionMonthsOpen_in (Input [(None, 1)]          0                                            \n",
            "__________________________________________________________________________________________________\n",
            "StoreType_in (InputLayer)       [(None, 1)]          0                                            \n",
            "__________________________________________________________________________________________________\n",
            "Week_in (InputLayer)            [(None, 1)]          0                                            \n",
            "__________________________________________________________________________________________________\n",
            "Promo2Weeks_in (InputLayer)     [(None, 1)]          0                                            \n",
            "__________________________________________________________________________________________________\n",
            "Promo_fw_in (InputLayer)        [(None, 1)]          0                                            \n",
            "__________________________________________________________________________________________________\n",
            "Promo_bw_in (InputLayer)        [(None, 1)]          0                                            \n",
            "__________________________________________________________________________________________________\n",
            "StateHoliday_fw_in (InputLayer) [(None, 1)]          0                                            \n",
            "__________________________________________________________________________________________________\n",
            "StateHoliday_bw_in (InputLayer) [(None, 1)]          0                                            \n",
            "__________________________________________________________________________________________________\n",
            "SchoolHoliday_fw_in (InputLayer [(None, 1)]          0                                            \n",
            "__________________________________________________________________________________________________\n",
            "SchoolHoliday_bw_in (InputLayer [(None, 1)]          0                                            \n",
            "__________________________________________________________________________________________________\n",
            "embedding (Embedding)           (None, 1, 50)        55750       Store_in[0][0]                   \n",
            "__________________________________________________________________________________________________\n",
            "embedding_1 (Embedding)         (None, 1, 16)        496         Day_in[0][0]                     \n",
            "__________________________________________________________________________________________________\n",
            "embedding_2 (Embedding)         (None, 1, 4)         28          DayOfWeek_in[0][0]               \n",
            "__________________________________________________________________________________________________\n",
            "embedding_3 (Embedding)         (None, 1, 6)         72          Month_in[0][0]                   \n",
            "__________________________________________________________________________________________________\n",
            "embedding_4 (Embedding)         (None, 1, 6)         72          State_in[0][0]                   \n",
            "__________________________________________________________________________________________________\n",
            "embedding_5 (Embedding)         (None, 1, 12)        276         CompetitionOpenSinceYear_in[0][0]\n",
            "__________________________________________________________________________________________________\n",
            "embedding_6 (Embedding)         (None, 1, 4)         32          Promo2SinceYear_in[0][0]         \n",
            "__________________________________________________________________________________________________\n",
            "embedding_7 (Embedding)         (None, 1, 11)        242         Events_in[0][0]                  \n",
            "__________________________________________________________________________________________________\n",
            "embedding_8 (Embedding)         (None, 1, 1)         2           StateHoliday_in[0][0]            \n",
            "__________________________________________________________________________________________________\n",
            "embedding_9 (Embedding)         (None, 1, 2)         6           Assortment_in[0][0]              \n",
            "__________________________________________________________________________________________________\n",
            "embedding_10 (Embedding)        (None, 1, 2)         8           PromoInterval_in[0][0]           \n",
            "__________________________________________________________________________________________________\n",
            "embedding_11 (Embedding)        (None, 1, 2)         6           Year_in[0][0]                    \n",
            "__________________________________________________________________________________________________\n",
            "embedding_12 (Embedding)        (None, 1, 13)        325         CompetitionMonthsOpen_in[0][0]   \n",
            "__________________________________________________________________________________________________\n",
            "embedding_13 (Embedding)        (None, 1, 2)         8           StoreType_in[0][0]               \n",
            "__________________________________________________________________________________________________\n",
            "embedding_14 (Embedding)        (None, 1, 26)        1352        Week_in[0][0]                    \n",
            "__________________________________________________________________________________________________\n",
            "embedding_15 (Embedding)        (None, 1, 13)        338         Promo2Weeks_in[0][0]             \n",
            "__________________________________________________________________________________________________\n",
            "embedding_16 (Embedding)        (None, 1, 3)         18          Promo_fw_in[0][0]                \n",
            "__________________________________________________________________________________________________\n",
            "embedding_17 (Embedding)        (None, 1, 3)         18          Promo_bw_in[0][0]                \n",
            "__________________________________________________________________________________________________\n",
            "embedding_18 (Embedding)        (None, 1, 2)         6           StateHoliday_fw_in[0][0]         \n",
            "__________________________________________________________________________________________________\n",
            "embedding_19 (Embedding)        (None, 1, 2)         6           StateHoliday_bw_in[0][0]         \n",
            "__________________________________________________________________________________________________\n",
            "embedding_20 (Embedding)        (None, 1, 4)         32          SchoolHoliday_fw_in[0][0]        \n",
            "__________________________________________________________________________________________________\n",
            "embedding_21 (Embedding)        (None, 1, 4)         32          SchoolHoliday_bw_in[0][0]        \n",
            "__________________________________________________________________________________________________\n",
            "contin (InputLayer)             [(None, 16)]         0                                            \n",
            "__________________________________________________________________________________________________\n",
            "Store_flt (Flatten)             (None, 50)           0           embedding[0][0]                  \n",
            "__________________________________________________________________________________________________\n",
            "Day_flt (Flatten)               (None, 16)           0           embedding_1[0][0]                \n",
            "__________________________________________________________________________________________________\n",
            "DayOfWeek_flt (Flatten)         (None, 4)            0           embedding_2[0][0]                \n",
            "__________________________________________________________________________________________________\n",
            "Month_flt (Flatten)             (None, 6)            0           embedding_3[0][0]                \n",
            "__________________________________________________________________________________________________\n",
            "State_flt (Flatten)             (None, 6)            0           embedding_4[0][0]                \n",
            "__________________________________________________________________________________________________\n",
            "CompetitionOpenSinceYear_flt (F (None, 12)           0           embedding_5[0][0]                \n",
            "__________________________________________________________________________________________________\n",
            "Promo2SinceYear_flt (Flatten)   (None, 4)            0           embedding_6[0][0]                \n",
            "__________________________________________________________________________________________________\n",
            "Events_flt (Flatten)            (None, 11)           0           embedding_7[0][0]                \n",
            "__________________________________________________________________________________________________\n",
            "StateHoliday_flt (Flatten)      (None, 1)            0           embedding_8[0][0]                \n",
            "__________________________________________________________________________________________________\n",
            "Assortment_flt (Flatten)        (None, 2)            0           embedding_9[0][0]                \n",
            "__________________________________________________________________________________________________\n",
            "PromoInterval_flt (Flatten)     (None, 2)            0           embedding_10[0][0]               \n",
            "__________________________________________________________________________________________________\n",
            "Year_flt (Flatten)              (None, 2)            0           embedding_11[0][0]               \n",
            "__________________________________________________________________________________________________\n",
            "CompetitionMonthsOpen_flt (Flat (None, 13)           0           embedding_12[0][0]               \n",
            "__________________________________________________________________________________________________\n",
            "StoreType_flt (Flatten)         (None, 2)            0           embedding_13[0][0]               \n",
            "__________________________________________________________________________________________________\n",
            "Week_flt (Flatten)              (None, 26)           0           embedding_14[0][0]               \n",
            "__________________________________________________________________________________________________\n",
            "Promo2Weeks_flt (Flatten)       (None, 13)           0           embedding_15[0][0]               \n",
            "__________________________________________________________________________________________________\n",
            "Promo_fw_flt (Flatten)          (None, 3)            0           embedding_16[0][0]               \n",
            "__________________________________________________________________________________________________\n",
            "Promo_bw_flt (Flatten)          (None, 3)            0           embedding_17[0][0]               \n",
            "__________________________________________________________________________________________________\n",
            "StateHoliday_fw_flt (Flatten)   (None, 2)            0           embedding_18[0][0]               \n",
            "__________________________________________________________________________________________________\n",
            "StateHoliday_bw_flt (Flatten)   (None, 2)            0           embedding_19[0][0]               \n",
            "__________________________________________________________________________________________________\n",
            "SchoolHoliday_fw_flt (Flatten)  (None, 4)            0           embedding_20[0][0]               \n",
            "__________________________________________________________________________________________________\n",
            "SchoolHoliday_bw_flt (Flatten)  (None, 4)            0           embedding_21[0][0]               \n",
            "__________________________________________________________________________________________________\n",
            "contin_d (Dense)                (None, 160)          2720        contin[0][0]                     \n",
            "__________________________________________________________________________________________________\n",
            "concatenate (Concatenate)       (None, 348)          0           Store_flt[0][0]                  \n",
            "                                                                 Day_flt[0][0]                    \n",
            "                                                                 DayOfWeek_flt[0][0]              \n",
            "                                                                 Month_flt[0][0]                  \n",
            "                                                                 State_flt[0][0]                  \n",
            "                                                                 CompetitionOpenSinceYear_flt[0][0\n",
            "                                                                 Promo2SinceYear_flt[0][0]        \n",
            "                                                                 Events_flt[0][0]                 \n",
            "                                                                 StateHoliday_flt[0][0]           \n",
            "                                                                 Assortment_flt[0][0]             \n",
            "                                                                 PromoInterval_flt[0][0]          \n",
            "                                                                 Year_flt[0][0]                   \n",
            "                                                                 CompetitionMonthsOpen_flt[0][0]  \n",
            "                                                                 StoreType_flt[0][0]              \n",
            "                                                                 Week_flt[0][0]                   \n",
            "                                                                 Promo2Weeks_flt[0][0]            \n",
            "                                                                 Promo_fw_flt[0][0]               \n",
            "                                                                 Promo_bw_flt[0][0]               \n",
            "                                                                 StateHoliday_fw_flt[0][0]        \n",
            "                                                                 StateHoliday_bw_flt[0][0]        \n",
            "                                                                 SchoolHoliday_fw_flt[0][0]       \n",
            "                                                                 SchoolHoliday_bw_flt[0][0]       \n",
            "                                                                 contin_d[0][0]                   \n",
            "__________________________________________________________________________________________________\n",
            "dropout (Dropout)               (None, 348)          0           concatenate[0][0]                \n",
            "__________________________________________________________________________________________________\n",
            "dense (Dense)                   (None, 1000)         349000      dropout[0][0]                    \n",
            "__________________________________________________________________________________________________\n",
            "dense_1 (Dense)                 (None, 500)          500500      dense[0][0]                      \n",
            "__________________________________________________________________________________________________\n",
            "dropout_1 (Dropout)             (None, 500)          0           dense_1[0][0]                    \n",
            "__________________________________________________________________________________________________\n",
            "dense_2 (Dense)                 (None, 1)            501         dropout_1[0][0]                  \n",
            "==================================================================================================\n",
            "Total params: 911,846\n",
            "Trainable params: 911,846\n",
            "Non-trainable params: 0\n",
            "__________________________________________________________________________________________________\n"
          ],
          "name": "stdout"
        }
      ]
    },
    {
      "cell_type": "markdown",
      "metadata": {
        "id": "JHJxU7CCc7RC"
      },
      "source": [
        "## Start training"
      ]
    },
    {
      "cell_type": "code",
      "metadata": {
        "ExecuteTime": {
          "end_time": "2017-09-09T13:35:54.319408Z",
          "start_time": "2017-09-09T12:53:55.421172Z"
        },
        "scrolled": false,
        "id": "uPMruzmpc7RC",
        "outputId": "c303a1ee-f3c7-4a8f-a47e-c99eff0014f2",
        "colab": {
          "base_uri": "https://localhost:8080/"
        }
      },
      "source": [
        "hist = model.fit(map_train, y_train, batch_size=128, epochs=25,\n",
        "                 verbose=1, validation_data=(map_valid, y_valid))"
      ],
      "execution_count": 163,
      "outputs": [
        {
          "output_type": "stream",
          "text": [
            "Epoch 1/25\n",
            "5937/5937 [==============================] - 119s 20ms/step - loss: 0.0118 - val_loss: 0.0111\n",
            "Epoch 2/25\n",
            "5937/5937 [==============================] - 125s 21ms/step - loss: 0.0083 - val_loss: 0.0106\n",
            "Epoch 3/25\n",
            "5937/5937 [==============================] - 125s 21ms/step - loss: 0.0072 - val_loss: 0.0102\n",
            "Epoch 4/25\n",
            "5937/5937 [==============================] - 121s 20ms/step - loss: 0.0068 - val_loss: 0.0100\n",
            "Epoch 5/25\n",
            "5937/5937 [==============================] - 120s 20ms/step - loss: 0.0066 - val_loss: 0.0100\n",
            "Epoch 6/25\n",
            "5937/5937 [==============================] - 118s 20ms/step - loss: 0.0065 - val_loss: 0.0097\n",
            "Epoch 7/25\n",
            "5937/5937 [==============================] - 118s 20ms/step - loss: 0.0063 - val_loss: 0.0104\n",
            "Epoch 8/25\n",
            "5937/5937 [==============================] - 119s 20ms/step - loss: 0.0063 - val_loss: 0.0098\n",
            "Epoch 9/25\n",
            "5937/5937 [==============================] - 122s 21ms/step - loss: 0.0062 - val_loss: 0.0098\n",
            "Epoch 10/25\n",
            "5937/5937 [==============================] - 120s 20ms/step - loss: 0.0061 - val_loss: 0.0099\n",
            "Epoch 11/25\n",
            "5937/5937 [==============================] - 117s 20ms/step - loss: 0.0061 - val_loss: 0.0098\n",
            "Epoch 12/25\n",
            "5937/5937 [==============================] - 119s 20ms/step - loss: 0.0061 - val_loss: 0.0104\n",
            "Epoch 13/25\n",
            "5937/5937 [==============================] - 123s 21ms/step - loss: 0.0060 - val_loss: 0.0099\n",
            "Epoch 14/25\n",
            "5937/5937 [==============================] - 125s 21ms/step - loss: 0.0060 - val_loss: 0.0100\n",
            "Epoch 15/25\n",
            "5937/5937 [==============================] - 122s 20ms/step - loss: 0.0060 - val_loss: 0.0101\n",
            "Epoch 16/25\n",
            "5937/5937 [==============================] - 121s 20ms/step - loss: 0.0059 - val_loss: 0.0098\n",
            "Epoch 17/25\n",
            "5937/5937 [==============================] - 118s 20ms/step - loss: 0.0059 - val_loss: 0.0098\n",
            "Epoch 18/25\n",
            "5937/5937 [==============================] - 118s 20ms/step - loss: 0.0059 - val_loss: 0.0102\n",
            "Epoch 19/25\n",
            "5937/5937 [==============================] - 119s 20ms/step - loss: 0.0059 - val_loss: 0.0098\n",
            "Epoch 20/25\n",
            "5937/5937 [==============================] - 123s 21ms/step - loss: 0.0059 - val_loss: 0.0098\n",
            "Epoch 21/25\n",
            "5937/5937 [==============================] - 122s 21ms/step - loss: 0.0059 - val_loss: 0.0100\n",
            "Epoch 22/25\n",
            "5937/5937 [==============================] - 118s 20ms/step - loss: 0.0059 - val_loss: 0.0097\n",
            "Epoch 23/25\n",
            "5937/5937 [==============================] - 120s 20ms/step - loss: 0.0058 - val_loss: 0.0101\n",
            "Epoch 24/25\n",
            "5937/5937 [==============================] - 127s 21ms/step - loss: 0.0058 - val_loss: 0.0097\n",
            "Epoch 25/25\n",
            "5937/5937 [==============================] - 124s 21ms/step - loss: 0.0058 - val_loss: 0.0099\n"
          ],
          "name": "stdout"
        }
      ]
    },
    {
      "cell_type": "code",
      "metadata": {
        "id": "KAOovEcpc7RD"
      },
      "source": [
        "model.save_weights('trained_weights.hdf5')"
      ],
      "execution_count": 164,
      "outputs": []
    },
    {
      "cell_type": "code",
      "metadata": {
        "ExecuteTime": {
          "end_time": "2017-09-09T13:35:54.331401Z",
          "start_time": "2017-09-09T13:35:54.323830Z"
        },
        "scrolled": false,
        "id": "wpX2bfzQc7RE",
        "outputId": "d79125b1-0aa7-47be-8167-28fd7fb02aa6",
        "colab": {
          "base_uri": "https://localhost:8080/"
        }
      },
      "source": [
        "hist.history"
      ],
      "execution_count": 165,
      "outputs": [
        {
          "output_type": "execute_result",
          "data": {
            "text/plain": [
              "{'loss': [0.011769521050155163,\n",
              "  0.008259546011686325,\n",
              "  0.007207317277789116,\n",
              "  0.006782825570553541,\n",
              "  0.006592325866222382,\n",
              "  0.006459612865000963,\n",
              "  0.006336858030408621,\n",
              "  0.006250618491321802,\n",
              "  0.006181522738188505,\n",
              "  0.006130092311650515,\n",
              "  0.006087685469537973,\n",
              "  0.00605408288538456,\n",
              "  0.006016465835273266,\n",
              "  0.005996142979711294,\n",
              "  0.00596820842474699,\n",
              "  0.005945555400103331,\n",
              "  0.005929369945079088,\n",
              "  0.005911326501518488,\n",
              "  0.00590478302910924,\n",
              "  0.005884019657969475,\n",
              "  0.005865772254765034,\n",
              "  0.0058537139557302,\n",
              "  0.005835704039782286,\n",
              "  0.005829156842082739,\n",
              "  0.005817790515720844],\n",
              " 'val_loss': [0.011123305186629295,\n",
              "  0.010577508248388767,\n",
              "  0.010240077041089535,\n",
              "  0.010047215037047863,\n",
              "  0.00998867116868496,\n",
              "  0.009740112349390984,\n",
              "  0.010358253493905067,\n",
              "  0.009786831215023994,\n",
              "  0.009776141494512558,\n",
              "  0.00994167011231184,\n",
              "  0.009797158651053905,\n",
              "  0.010370486415922642,\n",
              "  0.009920995682477951,\n",
              "  0.009978510439395905,\n",
              "  0.010078943334519863,\n",
              "  0.009809968993067741,\n",
              "  0.00982062891125679,\n",
              "  0.010231859982013702,\n",
              "  0.009830296039581299,\n",
              "  0.009816449135541916,\n",
              "  0.009993019513785839,\n",
              "  0.009655029512941837,\n",
              "  0.010112970136106014,\n",
              "  0.009749003686010838,\n",
              "  0.009944583289325237]}"
            ]
          },
          "metadata": {
            "tags": []
          },
          "execution_count": 165
        }
      ]
    },
    {
      "cell_type": "code",
      "metadata": {
        "ExecuteTime": {
          "end_time": "2017-09-09T13:35:54.475406Z",
          "start_time": "2017-09-09T13:35:54.335462Z"
        },
        "scrolled": false,
        "id": "Bb2tDs9gc7RF",
        "outputId": "9974ea18-64c5-4121-c9f8-f33384b2e817",
        "colab": {
          "base_uri": "https://localhost:8080/",
          "height": 285
        }
      },
      "source": [
        "plt.plot(hist.history['val_loss'])\n",
        "plt.plot(hist.history['loss'])"
      ],
      "execution_count": 166,
      "outputs": [
        {
          "output_type": "execute_result",
          "data": {
            "text/plain": [
              "[<matplotlib.lines.Line2D at 0x7fe2b7fde2b0>]"
            ]
          },
          "metadata": {
            "tags": []
          },
          "execution_count": 166
        },
        {
          "output_type": "display_data",
          "data": {
            "image/png": "[encoded data removed]",
            "text/plain": [
              "<Figure size 432x288 with 1 Axes>"
            ]
          },
          "metadata": {
            "tags": [],
            "needs_background": "light"
          }
        }
      ]
    },
    {
      "cell_type": "code",
      "metadata": {
        "ExecuteTime": {
          "end_time": "2017-09-09T13:35:55.215709Z",
          "start_time": "2017-09-09T13:35:54.478862Z"
        },
        "id": "30U4Qudqc7RG",
        "outputId": "209be0ce-3d90-4977-ffc8-31201e443fbf",
        "colab": {
          "base_uri": "https://localhost:8080/"
        }
      },
      "source": [
        "preds = np.squeeze(model.predict(map_valid, 1024, verbose=1))"
      ],
      "execution_count": 167,
      "outputs": [
        {
          "output_type": "stream",
          "text": [
            "83/83 [==============================] - 3s 31ms/step\n"
          ],
          "name": "stdout"
        }
      ]
    },
    {
      "cell_type": "code",
      "metadata": {
        "ExecuteTime": {
          "end_time": "2017-09-09T13:35:55.227457Z",
          "start_time": "2017-09-09T13:35:55.220149Z"
        },
        "scrolled": true,
        "id": "oWx9E8o1c7RH"
      },
      "source": [
        "def log_max_inv(preds, mx = max_log_y):\n",
        "    return np.exp(preds * mx)"
      ],
      "execution_count": 168,
      "outputs": []
    },
    {
      "cell_type": "code",
      "metadata": {
        "ExecuteTime": {
          "end_time": "2017-09-09T13:35:55.259467Z",
          "start_time": "2017-09-09T13:35:55.231530Z"
        },
        "id": "mUAyTDgtc7RI",
        "outputId": "8617e79a-e8ef-45b8-ceb7-108749360b80",
        "colab": {
          "base_uri": "https://localhost:8080/"
        }
      },
      "source": [
        "print(log_max_inv(preds, max_log_y)[0])\n",
        "print(log_max_inv(y_valid, max_log_y)[0])\n",
        "print(math.sqrt(np.square(((log_max_inv(preds, max_log_y)[0] - log_max_inv(y_valid, max_log_y)[0])/log_max_inv(y_valid, max_log_y)[0]).mean())))"
      ],
      "execution_count": 169,
      "outputs": [
        {
          "output_type": "stream",
          "text": [
            "7001.8623\n",
            "7955.999999999996\n",
            "0.11992680936557275\n"
          ],
          "name": "stdout"
        }
      ]
    },
    {
      "cell_type": "code",
      "metadata": {
        "ExecuteTime": {
          "end_time": "2017-09-09T13:35:55.271594Z",
          "start_time": "2017-09-09T13:35:55.263430Z"
        },
        "id": "ONWDV_qMc7RJ",
        "outputId": "d0805cd1-292d-46fe-ed1c-37e87c4a3da9",
        "colab": {
          "base_uri": "https://localhost:8080/"
        }
      },
      "source": [
        "preds_log_max_inv = log_max_inv(preds, max_log_y)\n",
        "print(preds_log_max_inv)"
      ],
      "execution_count": 170,
      "outputs": [
        {
          "output_type": "stream",
          "text": [
            "[ 7001.8623  8685.989   5047.9727  7350.6357  5617.1206  5040.742\n",
            "  5933.1167  7361.39    5210.0806  5764.108   8876.323   6907.2266\n",
            "  6247.8467  4771.2046  6934.062   5878.933   8056.6426  5434.081\n",
            "  3870.1934  5825.372  ...  5945.385  18947.553   4652.7305  4642.629\n",
            "  8090.8525 23609.932   3842.0059  3222.1423  3766.0278  7605.714\n",
            "  3700.3254  3302.979   2887.2825 11032.118   5024.2563  3859.442\n",
            "  9051.177   6158.995   4038.6824  5483.051 ]\n"
          ],
          "name": "stdout"
        }
      ]
    },
    {
      "cell_type": "code",
      "metadata": {
        "ExecuteTime": {
          "end_time": "2017-09-09T13:35:55.283477Z",
          "start_time": "2017-09-09T13:35:55.275569Z"
        },
        "id": "Shu_y0sWc7RK",
        "outputId": "fb8d3bcf-0a38-43cc-ed89-e0ba47f34f71",
        "colab": {
          "base_uri": "https://localhost:8080/"
        }
      },
      "source": [
        "y_valid_array =  log_max_inv(np.array(y_valid), max_log_y)\n",
        "print(y_valid_array)"
      ],
      "execution_count": 171,
      "outputs": [
        {
          "output_type": "stream",
          "text": [
            "[ 7956.  8958.  4676.  6913.  6157.  5010.  6723.  8033.  5196.  6413.\n",
            " 10012.  6619.  6806.  4765.  6973.  5080. 11710.  5088.  3612.  6362. ...\n",
            "  6218. 20642.  3697.  4220.  6851. 17267.  3102.  2401.  3139.  9643.\n",
            "  3113.  2646.  2907.  8498.  3821.  3375. 10765.  5035.  4491.  5961.]\n"
          ],
          "name": "stdout"
        }
      ]
    },
    {
      "cell_type": "code",
      "metadata": {
        "ExecuteTime": {
          "end_time": "2017-09-09T13:35:55.295476Z",
          "start_time": "2017-09-09T13:35:55.287400Z"
        },
        "id": "PYg7PF4Dc7RL",
        "outputId": "4d6d9d49-a613-400a-e9e6-6ed7faa3bd9b",
        "colab": {
          "base_uri": "https://localhost:8080/"
        }
      },
      "source": [
        "print(sqrt(mean(square((preds_log_max_inv - y_valid_array)/y_valid_array))))"
      ],
      "execution_count": 172,
      "outputs": [
        {
          "output_type": "stream",
          "text": [
            "0.21954819294048242\n"
          ],
          "name": "stdout"
        }
      ]
    },
    {
      "cell_type": "code",
      "metadata": {
        "id": "x6JYP5yAc7RM"
      },
      "source": [
        ""
      ],
      "execution_count": 172,
      "outputs": []
    }
  ]
}