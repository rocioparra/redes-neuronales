{
 "cells": [
  {
   "cell_type": "markdown",
   "metadata": {},
   "source": [
    "## 22.45 Redes Neuronales - 2020 2Q\n",
    "# Trabajo Práctico Nº1: Clasificador Bayesiano\n",
    "### Rocío Parra\n",
    "\n",
    "\n",
    "En el presente trabajo se utilizará un clasificador bayesiano para predecir si una persona es hombre o mujer, sabiendo únicamente su peso y su altura. Para esto se cuenta con una base de datos con el sexo y las medidas de una población, separada en una parte que será utilizada para estimar los parámetros necesarios, y otra con la que se probará la efectividad del algoritmo."
   ]
  },
  {
   "cell_type": "markdown",
   "metadata": {},
   "source": [
    "A continuación se observa una pequeña muestra de la información con la que se cuenta."
   ]
  },
  {
   "cell_type": "code",
   "execution_count": 1,
   "metadata": {},
   "outputs": [
    {
     "data": {
      "text/html": [
       "<div>\n",
       "<style scoped>\n",
       "    .dataframe tbody tr th:only-of-type {\n",
       "        vertical-align: middle;\n",
       "    }\n",
       "\n",
       "    .dataframe tbody tr th {\n",
       "        vertical-align: top;\n",
       "    }\n",
       "\n",
       "    .dataframe thead th {\n",
       "        text-align: right;\n",
       "    }\n",
       "</style>\n",
       "<table border=\"1\" class=\"dataframe\">\n",
       "  <thead>\n",
       "    <tr style=\"text-align: right;\">\n",
       "      <th></th>\n",
       "      <th>Genero</th>\n",
       "      <th>Peso</th>\n",
       "      <th>Altura</th>\n",
       "    </tr>\n",
       "  </thead>\n",
       "  <tbody>\n",
       "    <tr>\n",
       "      <th>7620</th>\n",
       "      <td>Mujer</td>\n",
       "      <td>61.235</td>\n",
       "      <td>162.402</td>\n",
       "    </tr>\n",
       "    <tr>\n",
       "      <th>1837</th>\n",
       "      <td>Hombre</td>\n",
       "      <td>97.432</td>\n",
       "      <td>181.908</td>\n",
       "    </tr>\n",
       "    <tr>\n",
       "      <th>3311</th>\n",
       "      <td>Hombre</td>\n",
       "      <td>73.324</td>\n",
       "      <td>172.459</td>\n",
       "    </tr>\n",
       "    <tr>\n",
       "      <th>9478</th>\n",
       "      <td>Mujer</td>\n",
       "      <td>55.193</td>\n",
       "      <td>157.748</td>\n",
       "    </tr>\n",
       "    <tr>\n",
       "      <th>7805</th>\n",
       "      <td>Mujer</td>\n",
       "      <td>56.886</td>\n",
       "      <td>151.798</td>\n",
       "    </tr>\n",
       "  </tbody>\n",
       "</table>\n",
       "</div>"
      ],
      "text/plain": [
       "      Genero    Peso   Altura\n",
       "7620   Mujer  61.235  162.402\n",
       "1837  Hombre  97.432  181.908\n",
       "3311  Hombre  73.324  172.459\n",
       "9478   Mujer  55.193  157.748\n",
       "7805   Mujer  56.886  151.798"
      ]
     },
     "execution_count": 1,
     "metadata": {},
     "output_type": "execute_result"
    }
   ],
   "source": [
    "from helper import get_stats, plot_hist_and_gaussian, test, head, plot_errors\n",
    "head()"
   ]
  },
  {
   "cell_type": "markdown",
   "metadata": {},
   "source": [
    "## Probabilidades a priori\n",
    "\n",
    "El clasificador bayesiano propuesto requiere el cálculo de las siguientes probabilidades:\n",
    "- Probabilidad de que el sexo de una persona $X$ sea $x$: $P(X=x)$\n",
    "- Probabilidad de que la altura y el peso $\\vec{M}= (Peso, Altura)$ de una persona sean $\\vec{m}=(peso, altura)$: $P(\\vec{M}=\\vec{m})$\n",
    "- Probabilidad de que una persona tenga las medidas $\\vec{m}$ sabiendo que su sexo es $x$: $P(\\vec{M}=\\vec{m} / X=x)$\n",
    "\n",
    "Teniendo estas probabilidades, para obtener la probabilidad de que una persona sea hombre o mujer dadas sus medidas, utilizando el teorema de Bayes se obtiene que:\n",
    "\n",
    "$$\n",
    "P(X=x/\\vec{M}=\\vec{m}) = \\frac{P(\\vec{M}=\\vec{m}/X=x) \\cdot P(X=x)}{P(\\vec{M}=\\vec{m})}\n",
    "$$ \n",
    "\n",
    "Para el caso de $P(X=x)$, basta calcular qué fracción de la población es de cada sexo. \n",
    "\n",
    "El caso de la altura y el peso, sin embargo, es más complicado. No sólo es $\\vec{m}$ una variable bidimensional, sino que además su espacio muestral es continuo. Para solucionar el problema de la continuidad, como el número de muestras es lo suficientemente elevado, puede tratarse la distribución de cada variable como una gaussiana, estimando su media y varianza a partir de las muestras.\n",
    "\n",
    "A su vez, se debe tener en cuenta el hecho de que el peso y la altura no son variables totalmente independientes entre sí: es esperable que una persona más alta, como tiene más volumen de músculo, tejidos, huesos, etc., sea también más pesada. Se propone entonces tratar $\\vec{M}$ como dos variables conjuntamente gaussianas, estimando $\\vec{\\mu}$ y $\\Sigma$ a partir de las muestras.\n",
    "\n",
    "Estos dos últimos estimadores deben calcularse para toda la población, así como por separado para hombres y para mujeres, a fin de obtener las distribuciones de probabilidades ya mencionadas. Los resultados de estas estimaciones se encuentran en la siguiente tabla:"
   ]
  },
  {
   "cell_type": "code",
   "execution_count": 2,
   "metadata": {},
   "outputs": [
    {
     "data": {
      "text/html": [
       "<div>\n",
       "<style scoped>\n",
       "    .dataframe tbody tr th:only-of-type {\n",
       "        vertical-align: middle;\n",
       "    }\n",
       "\n",
       "    .dataframe tbody tr th {\n",
       "        vertical-align: top;\n",
       "    }\n",
       "\n",
       "    .dataframe thead th {\n",
       "        text-align: right;\n",
       "    }\n",
       "</style>\n",
       "<table border=\"1\" class=\"dataframe\">\n",
       "  <thead>\n",
       "    <tr style=\"text-align: right;\">\n",
       "      <th></th>\n",
       "      <th>Grupo</th>\n",
       "      <th>Probabilidad</th>\n",
       "      <th>Media peso</th>\n",
       "      <th>Desvío peso</th>\n",
       "      <th>Media altura</th>\n",
       "      <th>Desvío altura</th>\n",
       "      <th>Correlación peso-altura</th>\n",
       "    </tr>\n",
       "  </thead>\n",
       "  <tbody>\n",
       "    <tr>\n",
       "      <th>0</th>\n",
       "      <td>Toda la población</td>\n",
       "      <td>1.00000</td>\n",
       "      <td>72.802476</td>\n",
       "      <td>14.624699</td>\n",
       "      <td>168.113424</td>\n",
       "      <td>9.829018</td>\n",
       "      <td>0.924378</td>\n",
       "    </tr>\n",
       "    <tr>\n",
       "      <th>1</th>\n",
       "      <td>Mujeres</td>\n",
       "      <td>0.49975</td>\n",
       "      <td>61.137895</td>\n",
       "      <td>8.671726</td>\n",
       "      <td>161.304713</td>\n",
       "      <td>6.897148</td>\n",
       "      <td>0.848971</td>\n",
       "    </tr>\n",
       "    <tr>\n",
       "      <th>2</th>\n",
       "      <td>Hombres</td>\n",
       "      <td>0.50025</td>\n",
       "      <td>84.455398</td>\n",
       "      <td>8.983019</td>\n",
       "      <td>174.915330</td>\n",
       "      <td>7.281646</td>\n",
       "      <td>0.860449</td>\n",
       "    </tr>\n",
       "  </tbody>\n",
       "</table>\n",
       "</div>"
      ],
      "text/plain": [
       "               Grupo  Probabilidad  Media peso  Desvío peso  Media altura  \\\n",
       "0  Toda la población       1.00000   72.802476    14.624699    168.113424   \n",
       "1            Mujeres       0.49975   61.137895     8.671726    161.304713   \n",
       "2            Hombres       0.50025   84.455398     8.983019    174.915330   \n",
       "\n",
       "   Desvío altura  Correlación peso-altura  \n",
       "0       9.829018                 0.924378  \n",
       "1       6.897148                 0.848971  \n",
       "2       7.281646                 0.860449  "
      ]
     },
     "execution_count": 2,
     "metadata": {},
     "output_type": "execute_result"
    }
   ],
   "source": [
    "get_stats()"
   ]
  },
  {
   "cell_type": "markdown",
   "metadata": {},
   "source": [
    "Para tener una representación visual de qué tanto representan las gaussianas a las medidas de la población, a continuación se presentan lado a lado histogramas bidimensionales obtenidos a partir de las muestras, y la gaussiana con misma $\\vec{\\mu}$ y $\\Sigma$."
   ]
  },
  {
   "cell_type": "code",
   "execution_count": 3,
   "metadata": {},
   "outputs": [
    {
     "name": "stdout",
     "output_type": "stream",
     "text": [
      "\n",
      "Gráficos correspondientes a toda la población\n"
     ]
    },
    {
     "data": {
      "image/png": "[encoded data removed]",
      "text/plain": [
       "<Figure size 720x360 with 2 Axes>"
      ]
     },
     "metadata": {
      "needs_background": "light"
     },
     "output_type": "display_data"
    },
    {
     "name": "stdout",
     "output_type": "stream",
     "text": [
      "\n",
      "Gráficos correspondientes a mujeres\n"
     ]
    },
    {
     "data": {
      "image/png": "[encoded data removed]",
      "text/plain": [
       "<Figure size 720x360 with 2 Axes>"
      ]
     },
     "metadata": {
      "needs_background": "light"
     },
     "output_type": "display_data"
    },
    {
     "name": "stdout",
     "output_type": "stream",
     "text": [
      "\n",
      "Gráficos correspondientes a hombres\n"
     ]
    },
    {
     "data": {
      "image/png": "[encoded data removed]",
      "text/plain": [
       "<Figure size 720x360 with 2 Axes>"
      ]
     },
     "metadata": {
      "needs_background": "light"
     },
     "output_type": "display_data"
    }
   ],
   "source": [
    "plot_hist_and_gaussian()"
   ]
  },
  {
   "cell_type": "code",
   "execution_count": 4,
   "metadata": {},
   "outputs": [
    {
     "name": "stdout",
     "output_type": "stream",
     "text": [
      "Predicciones correctas: 89.85%\n",
      "De las 203 predicciones incorrectas,  el 53.69% eran mujeres y el restante 46.31%, hombres.\n"
     ]
    }
   ],
   "source": [
    "right_p, wrong_n, wrong_w_p = test()\n",
    "print(f\"Predicciones correctas: {right_p:.2%}\")\n",
    "print(f\"De las {wrong_n} predicciones incorrectas, \",\n",
    "      f\"el {wrong_w_p:.2%} eran mujeres y el restante {1-wrong_w_p:.2%}, hombres.\")"
   ]
  },
  {
   "cell_type": "markdown",
   "metadata": {},
   "source": [
    "Como se puede observar de los gráficos a continuación, los errores corresponden en general a hombres cuyo peso y altura son cercanos o menores a $\\vec{\\mu}_{mujer}= (61kg, 161cm)$, y análogamente para mujeres con $\\vec{m} \\sim \\vec{\\mu}_{hombre}= (84.5kg, 175cm)$. "
   ]
  },
  {
   "cell_type": "code",
   "execution_count": 5,
   "metadata": {},
   "outputs": [
    {
     "data": {
      "image/png": "[encoded data removed]",
      "text/plain": [
       "<Figure size 720x360 with 2 Axes>"
      ]
     },
     "metadata": {
      "needs_background": "light"
     },
     "output_type": "display_data"
    }
   ],
   "source": [
    "plot_errors()"
   ]
  },
  {
   "cell_type": "markdown",
   "metadata": {},
   "source": [
    "Se concluye que el clasificador está operando de manera satisfactoria, teniendo en cuenta la información limitada con la que se cuenta. Dado que es esperable que una parte de la población femenina tenga peso y altura más típicamente encontrados en un hombre, y viceversa, para mejorar el resultado obtenido debería recurrirse a una base de datos que aporte más información sobre cada persona."
   ]
  }
 ],
 "metadata": {
  "kernelspec": {
   "display_name": "Python 3",
   "language": "python",
   "name": "python3"
  },
  "language_info": {
   "codemirror_mode": {
    "name": "ipython",
    "version": 3
   },
   "file_extension": ".py",
   "mimetype": "text/x-python",
   "name": "python",
   "nbconvert_exporter": "python",
   "pygments_lexer": "ipython3",
   "version": "3.8.5"
  }
 },
 "nbformat": 4,
 "nbformat_minor": 4
}
